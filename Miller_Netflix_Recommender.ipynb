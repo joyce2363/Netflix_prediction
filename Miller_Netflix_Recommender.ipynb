{
  "nbformat": 4,
  "nbformat_minor": 0,
  "metadata": {
    "colab": {
      "provenance": [],
      "machine_shape": "hm"
    },
    "kernelspec": {
      "name": "python3",
      "display_name": "Python 3"
    }
  },
  "cells": [
    {
      "cell_type": "code",
      "source": [
        "# Importing libraries\n",
        "import numpy as np\n",
        "import pandas as pd\n",
        "import math\n",
        "import os"
      ],
      "metadata": {
        "id": "E75fA6x8yomg"
      },
      "execution_count": null,
      "outputs": []
    },
    {
      "cell_type": "code",
      "source": [
        "from sklearn.metrics.pairwise import cosine_similarity\n",
        "from sklearn.feature_extraction.text import CountVectorizer"
      ],
      "metadata": {
        "id": "pdjxgFs7FvG1"
      },
      "execution_count": null,
      "outputs": []
    },
    {
      "cell_type": "code",
      "metadata": {
        "id": "GY2LYeDW_WAj"
      },
      "source": [
        "import nltk\n",
        "import numpy as np\n",
        "import gensim\n",
        "from gensim.models import Word2Vec\n",
        "import gensim.downloader as api\n",
        "from nltk.data import find\n",
        "import matplotlib\n",
        "import string\n",
        "from urllib.request import urlopen\n",
        "import nltk, re, pprint\n",
        "from nltk import word_tokenize\n",
        "from nltk import tokenize\n",
        "\n",
        "## Vizualise\n",
        "%matplotlib inline\n",
        "from matplotlib import pyplot as plt"
      ],
      "execution_count": null,
      "outputs": []
    },
    {
      "cell_type": "code",
      "source": [
        "#!unzip yelp_reviews.zip\n",
        "print('Dataset Downloaded: n_movies.csv')\n",
        "df=pd.read_csv('n_movies.csv')\n",
        "print(df.head())\n",
        "\n",
        "print('Setup Complete')"
      ],
      "metadata": {
        "id": "MbtQA62ZzSsT",
        "colab": {
          "base_uri": "https://localhost:8080/"
        },
        "outputId": "93816d83-e6c8-4b1d-a0d5-7abd3af48883"
      },
      "execution_count": null,
      "outputs": [
        {
          "output_type": "stream",
          "name": "stdout",
          "text": [
            "Dataset Downloaded: n_movies.csv\n",
            "                    title         year  length of characters certificate  \\\n",
            "0               Cobra Kai     (2018– )                    10       TV-14   \n",
            "1               The Crown     (2016– )                    10       TV-MA   \n",
            "2        Better Call Saul  (2015–2022)                    13       TV-MA   \n",
            "3           Devil in Ohio        -2022                     5       TV-MA   \n",
            "4  Cyberpunk: Edgerunners     (2022– )                    10       TV-MA   \n",
            "\n",
            "  duration                         genre  rating  \\\n",
            "0   30 min         Action, Comedy, Drama     8.5   \n",
            "1   58 min     Biography, Drama, History     8.7   \n",
            "2   46 min                  Crime, Drama     8.9   \n",
            "3  356 min        Drama, Horror, Mystery     5.9   \n",
            "4   24 min  Animation, Action, Adventure     8.6   \n",
            "\n",
            "                                         description  \\\n",
            "0  Decades after their 1984 All Valley Karate Tou...   \n",
            "1  Follows the political rivalries and romance of...   \n",
            "2  The trials and tribulations of criminal lawyer...   \n",
            "3  When a psychiatrist shelters a mysterious cult...   \n",
            "4  A Street Kid trying to survive in a technology...   \n",
            "\n",
            "                                               stars     votes  \n",
            "0  ['Ralph Macchio, ', 'William Zabka, ', 'Courtn...  177031.0  \n",
            "1  ['Claire Foy, ', 'Olivia Colman, ', 'Imelda St...  199885.0  \n",
            "2  ['Bob Odenkirk, ', 'Rhea Seehorn, ', 'Jonathan...  501384.0  \n",
            "3  ['Emily Deschanel, ', 'Sam Jaeger, ', 'Gerardo...    9773.0  \n",
            "4  ['Zach Aguilar, ', 'Kenichiro Ohashi, ', 'Emi ...   15413.0  \n",
            "Setup Complete\n"
          ]
        }
      ]
    },
    {
      "cell_type": "code",
      "source": [
        "df.head(10)\n",
        "# shows have -\n",
        "# movies don't have -"
      ],
      "metadata": {
        "id": "5ezSM1zdzwwH",
        "colab": {
          "base_uri": "https://localhost:8080/",
          "height": 363
        },
        "outputId": "777aad29-c0c3-41f1-edaf-aec0c981bc72"
      },
      "execution_count": null,
      "outputs": [
        {
          "output_type": "execute_result",
          "data": {
            "text/plain": [
              "                    title         year  length of characters certificate  \\\n",
              "0               Cobra Kai     (2018– )                    10       TV-14   \n",
              "1               The Crown     (2016– )                    10       TV-MA   \n",
              "2        Better Call Saul  (2015–2022)                    13       TV-MA   \n",
              "3           Devil in Ohio        -2022                     5       TV-MA   \n",
              "4  Cyberpunk: Edgerunners     (2022– )                    10       TV-MA   \n",
              "5             The Sandman     (2022– )                    10       TV-MA   \n",
              "6          Rick and Morty     (2013– )                    10       TV-MA   \n",
              "7            Breaking Bad  (2008–2013)                    13       TV-MA   \n",
              "8          The Imperfects     (2022– )                    10       TV-MA   \n",
              "9                  Blonde        -2022                     5       NC-17   \n",
              "\n",
              "  duration                         genre  rating  \\\n",
              "0   30 min         Action, Comedy, Drama     8.5   \n",
              "1   58 min     Biography, Drama, History     8.7   \n",
              "2   46 min                  Crime, Drama     8.9   \n",
              "3  356 min        Drama, Horror, Mystery     5.9   \n",
              "4   24 min  Animation, Action, Adventure     8.6   \n",
              "5   45 min        Drama, Fantasy, Horror     7.8   \n",
              "6   23 min  Animation, Adventure, Comedy     9.2   \n",
              "7   49 min        Crime, Drama, Thriller     9.5   \n",
              "8   45 min      Action, Adventure, Drama     6.3   \n",
              "9  166 min     Biography, Drama, Mystery     6.2   \n",
              "\n",
              "                                         description  \\\n",
              "0  Decades after their 1984 All Valley Karate Tou...   \n",
              "1  Follows the political rivalries and romance of...   \n",
              "2  The trials and tribulations of criminal lawyer...   \n",
              "3  When a psychiatrist shelters a mysterious cult...   \n",
              "4  A Street Kid trying to survive in a technology...   \n",
              "5  Upon escaping after decades of imprisonment by...   \n",
              "6  An animated series that follows the exploits o...   \n",
              "7  A high school chemistry teacher diagnosed with...   \n",
              "8  After an experimental gene therapy turns them ...   \n",
              "9  A fictionalized chronicle of the inner life of...   \n",
              "\n",
              "                                               stars      votes  \n",
              "0  ['Ralph Macchio, ', 'William Zabka, ', 'Courtn...   177031.0  \n",
              "1  ['Claire Foy, ', 'Olivia Colman, ', 'Imelda St...   199885.0  \n",
              "2  ['Bob Odenkirk, ', 'Rhea Seehorn, ', 'Jonathan...   501384.0  \n",
              "3  ['Emily Deschanel, ', 'Sam Jaeger, ', 'Gerardo...     9773.0  \n",
              "4  ['Zach Aguilar, ', 'Kenichiro Ohashi, ', 'Emi ...    15413.0  \n",
              "5  ['Tom Sturridge, ', 'Boyd Holbrook, ', 'Patton...   116358.0  \n",
              "6  ['Justin Roiland, ', 'Chris Parnell, ', 'Spenc...   502160.0  \n",
              "7  ['Bryan Cranston, ', 'Aaron Paul, ', 'Anna Gun...  1831340.0  \n",
              "8  ['Morgan Taylor Campbell, ', 'Italia Ricci, ',...     3123.0  \n",
              "9  ['Andrew Dominik', '| ', '    Stars:', 'Ana de...      935.0  "
            ],
            "text/html": [
              "\n",
              "  <div id=\"df-1f3f015c-3b71-40fb-98fa-8a17c075950c\">\n",
              "    <div class=\"colab-df-container\">\n",
              "      <div>\n",
              "<style scoped>\n",
              "    .dataframe tbody tr th:only-of-type {\n",
              "        vertical-align: middle;\n",
              "    }\n",
              "\n",
              "    .dataframe tbody tr th {\n",
              "        vertical-align: top;\n",
              "    }\n",
              "\n",
              "    .dataframe thead th {\n",
              "        text-align: right;\n",
              "    }\n",
              "</style>\n",
              "<table border=\"1\" class=\"dataframe\">\n",
              "  <thead>\n",
              "    <tr style=\"text-align: right;\">\n",
              "      <th></th>\n",
              "      <th>title</th>\n",
              "      <th>year</th>\n",
              "      <th>length of characters</th>\n",
              "      <th>certificate</th>\n",
              "      <th>duration</th>\n",
              "      <th>genre</th>\n",
              "      <th>rating</th>\n",
              "      <th>description</th>\n",
              "      <th>stars</th>\n",
              "      <th>votes</th>\n",
              "    </tr>\n",
              "  </thead>\n",
              "  <tbody>\n",
              "    <tr>\n",
              "      <th>0</th>\n",
              "      <td>Cobra Kai</td>\n",
              "      <td>(2018– )</td>\n",
              "      <td>10</td>\n",
              "      <td>TV-14</td>\n",
              "      <td>30 min</td>\n",
              "      <td>Action, Comedy, Drama</td>\n",
              "      <td>8.5</td>\n",
              "      <td>Decades after their 1984 All Valley Karate Tou...</td>\n",
              "      <td>['Ralph Macchio, ', 'William Zabka, ', 'Courtn...</td>\n",
              "      <td>177031.0</td>\n",
              "    </tr>\n",
              "    <tr>\n",
              "      <th>1</th>\n",
              "      <td>The Crown</td>\n",
              "      <td>(2016– )</td>\n",
              "      <td>10</td>\n",
              "      <td>TV-MA</td>\n",
              "      <td>58 min</td>\n",
              "      <td>Biography, Drama, History</td>\n",
              "      <td>8.7</td>\n",
              "      <td>Follows the political rivalries and romance of...</td>\n",
              "      <td>['Claire Foy, ', 'Olivia Colman, ', 'Imelda St...</td>\n",
              "      <td>199885.0</td>\n",
              "    </tr>\n",
              "    <tr>\n",
              "      <th>2</th>\n",
              "      <td>Better Call Saul</td>\n",
              "      <td>(2015–2022)</td>\n",
              "      <td>13</td>\n",
              "      <td>TV-MA</td>\n",
              "      <td>46 min</td>\n",
              "      <td>Crime, Drama</td>\n",
              "      <td>8.9</td>\n",
              "      <td>The trials and tribulations of criminal lawyer...</td>\n",
              "      <td>['Bob Odenkirk, ', 'Rhea Seehorn, ', 'Jonathan...</td>\n",
              "      <td>501384.0</td>\n",
              "    </tr>\n",
              "    <tr>\n",
              "      <th>3</th>\n",
              "      <td>Devil in Ohio</td>\n",
              "      <td>-2022</td>\n",
              "      <td>5</td>\n",
              "      <td>TV-MA</td>\n",
              "      <td>356 min</td>\n",
              "      <td>Drama, Horror, Mystery</td>\n",
              "      <td>5.9</td>\n",
              "      <td>When a psychiatrist shelters a mysterious cult...</td>\n",
              "      <td>['Emily Deschanel, ', 'Sam Jaeger, ', 'Gerardo...</td>\n",
              "      <td>9773.0</td>\n",
              "    </tr>\n",
              "    <tr>\n",
              "      <th>4</th>\n",
              "      <td>Cyberpunk: Edgerunners</td>\n",
              "      <td>(2022– )</td>\n",
              "      <td>10</td>\n",
              "      <td>TV-MA</td>\n",
              "      <td>24 min</td>\n",
              "      <td>Animation, Action, Adventure</td>\n",
              "      <td>8.6</td>\n",
              "      <td>A Street Kid trying to survive in a technology...</td>\n",
              "      <td>['Zach Aguilar, ', 'Kenichiro Ohashi, ', 'Emi ...</td>\n",
              "      <td>15413.0</td>\n",
              "    </tr>\n",
              "    <tr>\n",
              "      <th>5</th>\n",
              "      <td>The Sandman</td>\n",
              "      <td>(2022– )</td>\n",
              "      <td>10</td>\n",
              "      <td>TV-MA</td>\n",
              "      <td>45 min</td>\n",
              "      <td>Drama, Fantasy, Horror</td>\n",
              "      <td>7.8</td>\n",
              "      <td>Upon escaping after decades of imprisonment by...</td>\n",
              "      <td>['Tom Sturridge, ', 'Boyd Holbrook, ', 'Patton...</td>\n",
              "      <td>116358.0</td>\n",
              "    </tr>\n",
              "    <tr>\n",
              "      <th>6</th>\n",
              "      <td>Rick and Morty</td>\n",
              "      <td>(2013– )</td>\n",
              "      <td>10</td>\n",
              "      <td>TV-MA</td>\n",
              "      <td>23 min</td>\n",
              "      <td>Animation, Adventure, Comedy</td>\n",
              "      <td>9.2</td>\n",
              "      <td>An animated series that follows the exploits o...</td>\n",
              "      <td>['Justin Roiland, ', 'Chris Parnell, ', 'Spenc...</td>\n",
              "      <td>502160.0</td>\n",
              "    </tr>\n",
              "    <tr>\n",
              "      <th>7</th>\n",
              "      <td>Breaking Bad</td>\n",
              "      <td>(2008–2013)</td>\n",
              "      <td>13</td>\n",
              "      <td>TV-MA</td>\n",
              "      <td>49 min</td>\n",
              "      <td>Crime, Drama, Thriller</td>\n",
              "      <td>9.5</td>\n",
              "      <td>A high school chemistry teacher diagnosed with...</td>\n",
              "      <td>['Bryan Cranston, ', 'Aaron Paul, ', 'Anna Gun...</td>\n",
              "      <td>1831340.0</td>\n",
              "    </tr>\n",
              "    <tr>\n",
              "      <th>8</th>\n",
              "      <td>The Imperfects</td>\n",
              "      <td>(2022– )</td>\n",
              "      <td>10</td>\n",
              "      <td>TV-MA</td>\n",
              "      <td>45 min</td>\n",
              "      <td>Action, Adventure, Drama</td>\n",
              "      <td>6.3</td>\n",
              "      <td>After an experimental gene therapy turns them ...</td>\n",
              "      <td>['Morgan Taylor Campbell, ', 'Italia Ricci, ',...</td>\n",
              "      <td>3123.0</td>\n",
              "    </tr>\n",
              "    <tr>\n",
              "      <th>9</th>\n",
              "      <td>Blonde</td>\n",
              "      <td>-2022</td>\n",
              "      <td>5</td>\n",
              "      <td>NC-17</td>\n",
              "      <td>166 min</td>\n",
              "      <td>Biography, Drama, Mystery</td>\n",
              "      <td>6.2</td>\n",
              "      <td>A fictionalized chronicle of the inner life of...</td>\n",
              "      <td>['Andrew Dominik', '| ', '    Stars:', 'Ana de...</td>\n",
              "      <td>935.0</td>\n",
              "    </tr>\n",
              "  </tbody>\n",
              "</table>\n",
              "</div>\n",
              "      <button class=\"colab-df-convert\" onclick=\"convertToInteractive('df-1f3f015c-3b71-40fb-98fa-8a17c075950c')\"\n",
              "              title=\"Convert this dataframe to an interactive table.\"\n",
              "              style=\"display:none;\">\n",
              "        \n",
              "  <svg xmlns=\"http://www.w3.org/2000/svg\" height=\"24px\"viewBox=\"0 0 24 24\"\n",
              "       width=\"24px\">\n",
              "    <path d=\"M0 0h24v24H0V0z\" fill=\"none\"/>\n",
              "    <path d=\"M18.56 5.44l.94 2.06.94-2.06 2.06-.94-2.06-.94-.94-2.06-.94 2.06-2.06.94zm-11 1L8.5 8.5l.94-2.06 2.06-.94-2.06-.94L8.5 2.5l-.94 2.06-2.06.94zm10 10l.94 2.06.94-2.06 2.06-.94-2.06-.94-.94-2.06-.94 2.06-2.06.94z\"/><path d=\"M17.41 7.96l-1.37-1.37c-.4-.4-.92-.59-1.43-.59-.52 0-1.04.2-1.43.59L10.3 9.45l-7.72 7.72c-.78.78-.78 2.05 0 2.83L4 21.41c.39.39.9.59 1.41.59.51 0 1.02-.2 1.41-.59l7.78-7.78 2.81-2.81c.8-.78.8-2.07 0-2.86zM5.41 20L4 18.59l7.72-7.72 1.47 1.35L5.41 20z\"/>\n",
              "  </svg>\n",
              "      </button>\n",
              "      \n",
              "  <style>\n",
              "    .colab-df-container {\n",
              "      display:flex;\n",
              "      flex-wrap:wrap;\n",
              "      gap: 12px;\n",
              "    }\n",
              "\n",
              "    .colab-df-convert {\n",
              "      background-color: #E8F0FE;\n",
              "      border: none;\n",
              "      border-radius: 50%;\n",
              "      cursor: pointer;\n",
              "      display: none;\n",
              "      fill: #1967D2;\n",
              "      height: 32px;\n",
              "      padding: 0 0 0 0;\n",
              "      width: 32px;\n",
              "    }\n",
              "\n",
              "    .colab-df-convert:hover {\n",
              "      background-color: #E2EBFA;\n",
              "      box-shadow: 0px 1px 2px rgba(60, 64, 67, 0.3), 0px 1px 3px 1px rgba(60, 64, 67, 0.15);\n",
              "      fill: #174EA6;\n",
              "    }\n",
              "\n",
              "    [theme=dark] .colab-df-convert {\n",
              "      background-color: #3B4455;\n",
              "      fill: #D2E3FC;\n",
              "    }\n",
              "\n",
              "    [theme=dark] .colab-df-convert:hover {\n",
              "      background-color: #434B5C;\n",
              "      box-shadow: 0px 1px 3px 1px rgba(0, 0, 0, 0.15);\n",
              "      filter: drop-shadow(0px 1px 2px rgba(0, 0, 0, 0.3));\n",
              "      fill: #FFFFFF;\n",
              "    }\n",
              "  </style>\n",
              "\n",
              "      <script>\n",
              "        const buttonEl =\n",
              "          document.querySelector('#df-1f3f015c-3b71-40fb-98fa-8a17c075950c button.colab-df-convert');\n",
              "        buttonEl.style.display =\n",
              "          google.colab.kernel.accessAllowed ? 'block' : 'none';\n",
              "\n",
              "        async function convertToInteractive(key) {\n",
              "          const element = document.querySelector('#df-1f3f015c-3b71-40fb-98fa-8a17c075950c');\n",
              "          const dataTable =\n",
              "            await google.colab.kernel.invokeFunction('convertToInteractive',\n",
              "                                                     [key], {});\n",
              "          if (!dataTable) return;\n",
              "\n",
              "          const docLinkHtml = 'Like what you see? Visit the ' +\n",
              "            '<a target=\"_blank\" href=https://colab.research.google.com/notebooks/data_table.ipynb>data table notebook</a>'\n",
              "            + ' to learn more about interactive tables.';\n",
              "          element.innerHTML = '';\n",
              "          dataTable['output_type'] = 'display_data';\n",
              "          await google.colab.output.renderOutput(dataTable, element);\n",
              "          const docLink = document.createElement('div');\n",
              "          docLink.innerHTML = docLinkHtml;\n",
              "          element.appendChild(docLink);\n",
              "        }\n",
              "      </script>\n",
              "    </div>\n",
              "  </div>\n",
              "  "
            ]
          },
          "metadata": {},
          "execution_count": 167
        }
      ]
    },
    {
      "cell_type": "code",
      "source": [
        "df = df.dropna(subset= ['year'])"
      ],
      "metadata": {
        "id": "PZnXnpq046ju"
      },
      "execution_count": null,
      "outputs": []
    },
    {
      "cell_type": "code",
      "source": [
        "# to analyze shows recommendation system only going to look at shows, subset year to only columns with dash\n",
        "df\n",
        "df['year_length'] = df['year'].astype(str).len()"
      ],
      "metadata": {
        "colab": {
          "base_uri": "https://localhost:8080/",
          "height": 321
        },
        "id": "c8ninwqX30CQ",
        "outputId": "2891f3d6-445b-479e-9ff9-af301295e0b3"
      },
      "execution_count": null,
      "outputs": [
        {
          "output_type": "error",
          "ename": "AttributeError",
          "evalue": "ignored",
          "traceback": [
            "\u001b[0;31m---------------------------------------------------------------------------\u001b[0m",
            "\u001b[0;31mAttributeError\u001b[0m                            Traceback (most recent call last)",
            "\u001b[0;32m<ipython-input-13-6b886bc2ab27>\u001b[0m in \u001b[0;36m<module>\u001b[0;34m\u001b[0m\n\u001b[1;32m      1\u001b[0m \u001b[0;31m# to analyze shows recommendation system only going to look at shows, subset year to only columns with dash\u001b[0m\u001b[0;34m\u001b[0m\u001b[0;34m\u001b[0m\u001b[0;34m\u001b[0m\u001b[0m\n\u001b[1;32m      2\u001b[0m \u001b[0mdf\u001b[0m\u001b[0;34m\u001b[0m\u001b[0;34m\u001b[0m\u001b[0m\n\u001b[0;32m----> 3\u001b[0;31m \u001b[0mdf\u001b[0m\u001b[0;34m[\u001b[0m\u001b[0;34m'year_length'\u001b[0m\u001b[0;34m]\u001b[0m \u001b[0;34m=\u001b[0m \u001b[0mdf\u001b[0m\u001b[0;34m[\u001b[0m\u001b[0;34m'year'\u001b[0m\u001b[0;34m]\u001b[0m\u001b[0;34m.\u001b[0m\u001b[0mastype\u001b[0m\u001b[0;34m(\u001b[0m\u001b[0mstr\u001b[0m\u001b[0;34m)\u001b[0m\u001b[0;34m.\u001b[0m\u001b[0mlen\u001b[0m\u001b[0;34m(\u001b[0m\u001b[0;34m)\u001b[0m\u001b[0;34m\u001b[0m\u001b[0;34m\u001b[0m\u001b[0m\n\u001b[0m",
            "\u001b[0;32m/usr/local/lib/python3.7/dist-packages/pandas/core/generic.py\u001b[0m in \u001b[0;36m__getattr__\u001b[0;34m(self, name)\u001b[0m\n\u001b[1;32m   5485\u001b[0m         ):\n\u001b[1;32m   5486\u001b[0m             \u001b[0;32mreturn\u001b[0m \u001b[0mself\u001b[0m\u001b[0;34m[\u001b[0m\u001b[0mname\u001b[0m\u001b[0;34m]\u001b[0m\u001b[0;34m\u001b[0m\u001b[0;34m\u001b[0m\u001b[0m\n\u001b[0;32m-> 5487\u001b[0;31m         \u001b[0;32mreturn\u001b[0m \u001b[0mobject\u001b[0m\u001b[0;34m.\u001b[0m\u001b[0m__getattribute__\u001b[0m\u001b[0;34m(\u001b[0m\u001b[0mself\u001b[0m\u001b[0;34m,\u001b[0m \u001b[0mname\u001b[0m\u001b[0;34m)\u001b[0m\u001b[0;34m\u001b[0m\u001b[0;34m\u001b[0m\u001b[0m\n\u001b[0m\u001b[1;32m   5488\u001b[0m \u001b[0;34m\u001b[0m\u001b[0m\n\u001b[1;32m   5489\u001b[0m     \u001b[0;32mdef\u001b[0m \u001b[0m__setattr__\u001b[0m\u001b[0;34m(\u001b[0m\u001b[0mself\u001b[0m\u001b[0;34m,\u001b[0m \u001b[0mname\u001b[0m\u001b[0;34m:\u001b[0m \u001b[0mstr\u001b[0m\u001b[0;34m,\u001b[0m \u001b[0mvalue\u001b[0m\u001b[0;34m)\u001b[0m \u001b[0;34m->\u001b[0m \u001b[0;32mNone\u001b[0m\u001b[0;34m:\u001b[0m\u001b[0;34m\u001b[0m\u001b[0;34m\u001b[0m\u001b[0m\n",
            "\u001b[0;31mAttributeError\u001b[0m: 'Series' object has no attribute 'len'"
          ]
        }
      ]
    },
    {
      "cell_type": "code",
      "source": [
        "df.columns"
      ],
      "metadata": {
        "colab": {
          "base_uri": "https://localhost:8080/"
        },
        "id": "8ArATwPxz45Y",
        "outputId": "d03e085b-a1f5-4efd-9ed1-efb13e83aca2"
      },
      "execution_count": null,
      "outputs": [
        {
          "output_type": "execute_result",
          "data": {
            "text/plain": [
              "Index(['title', 'year', 'certificate', 'duration', 'genre', 'rating',\n",
              "       'description', 'stars', 'votes'],\n",
              "      dtype='object')"
            ]
          },
          "metadata": {},
          "execution_count": 21
        }
      ]
    },
    {
      "cell_type": "code",
      "source": [
        "df.shape"
      ],
      "metadata": {
        "colab": {
          "base_uri": "https://localhost:8080/"
        },
        "id": "t_F4UZjMz8QK",
        "outputId": "41ebe30e-c0c2-41dc-eb09-ff5f0618e33b"
      },
      "execution_count": null,
      "outputs": [
        {
          "output_type": "execute_result",
          "data": {
            "text/plain": [
              "(9957, 10)"
            ]
          },
          "metadata": {},
          "execution_count": 31
        }
      ]
    },
    {
      "cell_type": "code",
      "source": [
        "df.isna().sum() \n",
        "# removing NA bc not a significant amount compared to total"
      ],
      "metadata": {
        "colab": {
          "base_uri": "https://localhost:8080/"
        },
        "id": "Hrz8f3aX0ssy",
        "outputId": "f4f96f8d-0172-4168-da09-7ba9f4340c16"
      },
      "execution_count": null,
      "outputs": [
        {
          "output_type": "execute_result",
          "data": {
            "text/plain": [
              "title                     0\n",
              "year                      0\n",
              "length of characters      0\n",
              "certificate             660\n",
              "duration                122\n",
              "genre                     0\n",
              "rating                    0\n",
              "description               0\n",
              "stars                     0\n",
              "votes                     0\n",
              "dtype: int64"
            ]
          },
          "metadata": {},
          "execution_count": 43
        }
      ]
    },
    {
      "cell_type": "code",
      "source": [
        "df[[\"title\", \"genre\",\"description\"]]"
      ],
      "metadata": {
        "colab": {
          "base_uri": "https://localhost:8080/",
          "height": 424
        },
        "id": "0ffOSGnu2La1",
        "outputId": "e448362c-8c12-476a-afe1-b3056c4f141d"
      },
      "execution_count": null,
      "outputs": [
        {
          "output_type": "execute_result",
          "data": {
            "text/plain": [
              "                       title                         genre  \\\n",
              "0                  Cobra Kai         Action, Comedy, Drama   \n",
              "1                  The Crown     Biography, Drama, History   \n",
              "2           Better Call Saul                  Crime, Drama   \n",
              "3              Devil in Ohio        Drama, Horror, Mystery   \n",
              "4     Cyberpunk: Edgerunners  Animation, Action, Adventure   \n",
              "...                      ...                           ...   \n",
              "9952          The Imperfects      Action, Adventure, Drama   \n",
              "9953        The Walking Dead       Drama, Horror, Thriller   \n",
              "9954               The Crown     Biography, Drama, History   \n",
              "9955            Supernatural        Drama, Fantasy, Horror   \n",
              "9956           Devil in Ohio        Drama, Horror, Mystery   \n",
              "\n",
              "                                            description  \n",
              "0     Decades after their 1984 All Valley Karate Tou...  \n",
              "1     Follows the political rivalries and romance of...  \n",
              "2     The trials and tribulations of criminal lawyer...  \n",
              "3     When a psychiatrist shelters a mysterious cult...  \n",
              "4     A Street Kid trying to survive in a technology...  \n",
              "...                                                 ...  \n",
              "9952  After an experimental gene therapy turns them ...  \n",
              "9953  Sheriff Deputy Rick Grimes wakes up from a com...  \n",
              "9954  Follows the political rivalries and romance of...  \n",
              "9955  Two brothers follow their father's footsteps a...  \n",
              "9956  When a psychiatrist shelters a mysterious cult...  \n",
              "\n",
              "[9957 rows x 3 columns]"
            ],
            "text/html": [
              "\n",
              "  <div id=\"df-59048fa9-521f-45b5-9fb4-406b659156fd\">\n",
              "    <div class=\"colab-df-container\">\n",
              "      <div>\n",
              "<style scoped>\n",
              "    .dataframe tbody tr th:only-of-type {\n",
              "        vertical-align: middle;\n",
              "    }\n",
              "\n",
              "    .dataframe tbody tr th {\n",
              "        vertical-align: top;\n",
              "    }\n",
              "\n",
              "    .dataframe thead th {\n",
              "        text-align: right;\n",
              "    }\n",
              "</style>\n",
              "<table border=\"1\" class=\"dataframe\">\n",
              "  <thead>\n",
              "    <tr style=\"text-align: right;\">\n",
              "      <th></th>\n",
              "      <th>title</th>\n",
              "      <th>genre</th>\n",
              "      <th>description</th>\n",
              "    </tr>\n",
              "  </thead>\n",
              "  <tbody>\n",
              "    <tr>\n",
              "      <th>0</th>\n",
              "      <td>Cobra Kai</td>\n",
              "      <td>Action, Comedy, Drama</td>\n",
              "      <td>Decades after their 1984 All Valley Karate Tou...</td>\n",
              "    </tr>\n",
              "    <tr>\n",
              "      <th>1</th>\n",
              "      <td>The Crown</td>\n",
              "      <td>Biography, Drama, History</td>\n",
              "      <td>Follows the political rivalries and romance of...</td>\n",
              "    </tr>\n",
              "    <tr>\n",
              "      <th>2</th>\n",
              "      <td>Better Call Saul</td>\n",
              "      <td>Crime, Drama</td>\n",
              "      <td>The trials and tribulations of criminal lawyer...</td>\n",
              "    </tr>\n",
              "    <tr>\n",
              "      <th>3</th>\n",
              "      <td>Devil in Ohio</td>\n",
              "      <td>Drama, Horror, Mystery</td>\n",
              "      <td>When a psychiatrist shelters a mysterious cult...</td>\n",
              "    </tr>\n",
              "    <tr>\n",
              "      <th>4</th>\n",
              "      <td>Cyberpunk: Edgerunners</td>\n",
              "      <td>Animation, Action, Adventure</td>\n",
              "      <td>A Street Kid trying to survive in a technology...</td>\n",
              "    </tr>\n",
              "    <tr>\n",
              "      <th>...</th>\n",
              "      <td>...</td>\n",
              "      <td>...</td>\n",
              "      <td>...</td>\n",
              "    </tr>\n",
              "    <tr>\n",
              "      <th>9952</th>\n",
              "      <td>The Imperfects</td>\n",
              "      <td>Action, Adventure, Drama</td>\n",
              "      <td>After an experimental gene therapy turns them ...</td>\n",
              "    </tr>\n",
              "    <tr>\n",
              "      <th>9953</th>\n",
              "      <td>The Walking Dead</td>\n",
              "      <td>Drama, Horror, Thriller</td>\n",
              "      <td>Sheriff Deputy Rick Grimes wakes up from a com...</td>\n",
              "    </tr>\n",
              "    <tr>\n",
              "      <th>9954</th>\n",
              "      <td>The Crown</td>\n",
              "      <td>Biography, Drama, History</td>\n",
              "      <td>Follows the political rivalries and romance of...</td>\n",
              "    </tr>\n",
              "    <tr>\n",
              "      <th>9955</th>\n",
              "      <td>Supernatural</td>\n",
              "      <td>Drama, Fantasy, Horror</td>\n",
              "      <td>Two brothers follow their father's footsteps a...</td>\n",
              "    </tr>\n",
              "    <tr>\n",
              "      <th>9956</th>\n",
              "      <td>Devil in Ohio</td>\n",
              "      <td>Drama, Horror, Mystery</td>\n",
              "      <td>When a psychiatrist shelters a mysterious cult...</td>\n",
              "    </tr>\n",
              "  </tbody>\n",
              "</table>\n",
              "<p>9957 rows × 3 columns</p>\n",
              "</div>\n",
              "      <button class=\"colab-df-convert\" onclick=\"convertToInteractive('df-59048fa9-521f-45b5-9fb4-406b659156fd')\"\n",
              "              title=\"Convert this dataframe to an interactive table.\"\n",
              "              style=\"display:none;\">\n",
              "        \n",
              "  <svg xmlns=\"http://www.w3.org/2000/svg\" height=\"24px\"viewBox=\"0 0 24 24\"\n",
              "       width=\"24px\">\n",
              "    <path d=\"M0 0h24v24H0V0z\" fill=\"none\"/>\n",
              "    <path d=\"M18.56 5.44l.94 2.06.94-2.06 2.06-.94-2.06-.94-.94-2.06-.94 2.06-2.06.94zm-11 1L8.5 8.5l.94-2.06 2.06-.94-2.06-.94L8.5 2.5l-.94 2.06-2.06.94zm10 10l.94 2.06.94-2.06 2.06-.94-2.06-.94-.94-2.06-.94 2.06-2.06.94z\"/><path d=\"M17.41 7.96l-1.37-1.37c-.4-.4-.92-.59-1.43-.59-.52 0-1.04.2-1.43.59L10.3 9.45l-7.72 7.72c-.78.78-.78 2.05 0 2.83L4 21.41c.39.39.9.59 1.41.59.51 0 1.02-.2 1.41-.59l7.78-7.78 2.81-2.81c.8-.78.8-2.07 0-2.86zM5.41 20L4 18.59l7.72-7.72 1.47 1.35L5.41 20z\"/>\n",
              "  </svg>\n",
              "      </button>\n",
              "      \n",
              "  <style>\n",
              "    .colab-df-container {\n",
              "      display:flex;\n",
              "      flex-wrap:wrap;\n",
              "      gap: 12px;\n",
              "    }\n",
              "\n",
              "    .colab-df-convert {\n",
              "      background-color: #E8F0FE;\n",
              "      border: none;\n",
              "      border-radius: 50%;\n",
              "      cursor: pointer;\n",
              "      display: none;\n",
              "      fill: #1967D2;\n",
              "      height: 32px;\n",
              "      padding: 0 0 0 0;\n",
              "      width: 32px;\n",
              "    }\n",
              "\n",
              "    .colab-df-convert:hover {\n",
              "      background-color: #E2EBFA;\n",
              "      box-shadow: 0px 1px 2px rgba(60, 64, 67, 0.3), 0px 1px 3px 1px rgba(60, 64, 67, 0.15);\n",
              "      fill: #174EA6;\n",
              "    }\n",
              "\n",
              "    [theme=dark] .colab-df-convert {\n",
              "      background-color: #3B4455;\n",
              "      fill: #D2E3FC;\n",
              "    }\n",
              "\n",
              "    [theme=dark] .colab-df-convert:hover {\n",
              "      background-color: #434B5C;\n",
              "      box-shadow: 0px 1px 3px 1px rgba(0, 0, 0, 0.15);\n",
              "      filter: drop-shadow(0px 1px 2px rgba(0, 0, 0, 0.3));\n",
              "      fill: #FFFFFF;\n",
              "    }\n",
              "  </style>\n",
              "\n",
              "      <script>\n",
              "        const buttonEl =\n",
              "          document.querySelector('#df-59048fa9-521f-45b5-9fb4-406b659156fd button.colab-df-convert');\n",
              "        buttonEl.style.display =\n",
              "          google.colab.kernel.accessAllowed ? 'block' : 'none';\n",
              "\n",
              "        async function convertToInteractive(key) {\n",
              "          const element = document.querySelector('#df-59048fa9-521f-45b5-9fb4-406b659156fd');\n",
              "          const dataTable =\n",
              "            await google.colab.kernel.invokeFunction('convertToInteractive',\n",
              "                                                     [key], {});\n",
              "          if (!dataTable) return;\n",
              "\n",
              "          const docLinkHtml = 'Like what you see? Visit the ' +\n",
              "            '<a target=\"_blank\" href=https://colab.research.google.com/notebooks/data_table.ipynb>data table notebook</a>'\n",
              "            + ' to learn more about interactive tables.';\n",
              "          element.innerHTML = '';\n",
              "          dataTable['output_type'] = 'display_data';\n",
              "          await google.colab.output.renderOutput(dataTable, element);\n",
              "          const docLink = document.createElement('div');\n",
              "          docLink.innerHTML = docLinkHtml;\n",
              "          element.appendChild(docLink);\n",
              "        }\n",
              "      </script>\n",
              "    </div>\n",
              "  </div>\n",
              "  "
            ]
          },
          "metadata": {},
          "execution_count": 24
        }
      ]
    },
    {
      "cell_type": "code",
      "source": [
        "df.head(2)"
      ],
      "metadata": {
        "id": "-oqvoUdw3eED",
        "colab": {
          "base_uri": "https://localhost:8080/",
          "height": 112
        },
        "outputId": "bee32957-ae30-4e6e-bf2c-1beca05feb60"
      },
      "execution_count": null,
      "outputs": [
        {
          "output_type": "execute_result",
          "data": {
            "text/plain": [
              "       title      year  length of characters certificate duration  \\\n",
              "0  Cobra Kai  (2018– )                    10       TV-14   30 min   \n",
              "1  The Crown  (2016– )                    10       TV-MA   58 min   \n",
              "\n",
              "                       genre  rating  \\\n",
              "0      Action, Comedy, Drama     8.5   \n",
              "1  Biography, Drama, History     8.7   \n",
              "\n",
              "                                         description  \\\n",
              "0  Decades after their 1984 All Valley Karate Tou...   \n",
              "1  Follows the political rivalries and romance of...   \n",
              "\n",
              "                                               stars     votes  \n",
              "0  ['Ralph Macchio, ', 'William Zabka, ', 'Courtn...  177031.0  \n",
              "1  ['Claire Foy, ', 'Olivia Colman, ', 'Imelda St...  199885.0  "
            ],
            "text/html": [
              "\n",
              "  <div id=\"df-80a55dd0-6cf2-4568-b576-d7ef91dab9d8\">\n",
              "    <div class=\"colab-df-container\">\n",
              "      <div>\n",
              "<style scoped>\n",
              "    .dataframe tbody tr th:only-of-type {\n",
              "        vertical-align: middle;\n",
              "    }\n",
              "\n",
              "    .dataframe tbody tr th {\n",
              "        vertical-align: top;\n",
              "    }\n",
              "\n",
              "    .dataframe thead th {\n",
              "        text-align: right;\n",
              "    }\n",
              "</style>\n",
              "<table border=\"1\" class=\"dataframe\">\n",
              "  <thead>\n",
              "    <tr style=\"text-align: right;\">\n",
              "      <th></th>\n",
              "      <th>title</th>\n",
              "      <th>year</th>\n",
              "      <th>length of characters</th>\n",
              "      <th>certificate</th>\n",
              "      <th>duration</th>\n",
              "      <th>genre</th>\n",
              "      <th>rating</th>\n",
              "      <th>description</th>\n",
              "      <th>stars</th>\n",
              "      <th>votes</th>\n",
              "    </tr>\n",
              "  </thead>\n",
              "  <tbody>\n",
              "    <tr>\n",
              "      <th>0</th>\n",
              "      <td>Cobra Kai</td>\n",
              "      <td>(2018– )</td>\n",
              "      <td>10</td>\n",
              "      <td>TV-14</td>\n",
              "      <td>30 min</td>\n",
              "      <td>Action, Comedy, Drama</td>\n",
              "      <td>8.5</td>\n",
              "      <td>Decades after their 1984 All Valley Karate Tou...</td>\n",
              "      <td>['Ralph Macchio, ', 'William Zabka, ', 'Courtn...</td>\n",
              "      <td>177031.0</td>\n",
              "    </tr>\n",
              "    <tr>\n",
              "      <th>1</th>\n",
              "      <td>The Crown</td>\n",
              "      <td>(2016– )</td>\n",
              "      <td>10</td>\n",
              "      <td>TV-MA</td>\n",
              "      <td>58 min</td>\n",
              "      <td>Biography, Drama, History</td>\n",
              "      <td>8.7</td>\n",
              "      <td>Follows the political rivalries and romance of...</td>\n",
              "      <td>['Claire Foy, ', 'Olivia Colman, ', 'Imelda St...</td>\n",
              "      <td>199885.0</td>\n",
              "    </tr>\n",
              "  </tbody>\n",
              "</table>\n",
              "</div>\n",
              "      <button class=\"colab-df-convert\" onclick=\"convertToInteractive('df-80a55dd0-6cf2-4568-b576-d7ef91dab9d8')\"\n",
              "              title=\"Convert this dataframe to an interactive table.\"\n",
              "              style=\"display:none;\">\n",
              "        \n",
              "  <svg xmlns=\"http://www.w3.org/2000/svg\" height=\"24px\"viewBox=\"0 0 24 24\"\n",
              "       width=\"24px\">\n",
              "    <path d=\"M0 0h24v24H0V0z\" fill=\"none\"/>\n",
              "    <path d=\"M18.56 5.44l.94 2.06.94-2.06 2.06-.94-2.06-.94-.94-2.06-.94 2.06-2.06.94zm-11 1L8.5 8.5l.94-2.06 2.06-.94-2.06-.94L8.5 2.5l-.94 2.06-2.06.94zm10 10l.94 2.06.94-2.06 2.06-.94-2.06-.94-.94-2.06-.94 2.06-2.06.94z\"/><path d=\"M17.41 7.96l-1.37-1.37c-.4-.4-.92-.59-1.43-.59-.52 0-1.04.2-1.43.59L10.3 9.45l-7.72 7.72c-.78.78-.78 2.05 0 2.83L4 21.41c.39.39.9.59 1.41.59.51 0 1.02-.2 1.41-.59l7.78-7.78 2.81-2.81c.8-.78.8-2.07 0-2.86zM5.41 20L4 18.59l7.72-7.72 1.47 1.35L5.41 20z\"/>\n",
              "  </svg>\n",
              "      </button>\n",
              "      \n",
              "  <style>\n",
              "    .colab-df-container {\n",
              "      display:flex;\n",
              "      flex-wrap:wrap;\n",
              "      gap: 12px;\n",
              "    }\n",
              "\n",
              "    .colab-df-convert {\n",
              "      background-color: #E8F0FE;\n",
              "      border: none;\n",
              "      border-radius: 50%;\n",
              "      cursor: pointer;\n",
              "      display: none;\n",
              "      fill: #1967D2;\n",
              "      height: 32px;\n",
              "      padding: 0 0 0 0;\n",
              "      width: 32px;\n",
              "    }\n",
              "\n",
              "    .colab-df-convert:hover {\n",
              "      background-color: #E2EBFA;\n",
              "      box-shadow: 0px 1px 2px rgba(60, 64, 67, 0.3), 0px 1px 3px 1px rgba(60, 64, 67, 0.15);\n",
              "      fill: #174EA6;\n",
              "    }\n",
              "\n",
              "    [theme=dark] .colab-df-convert {\n",
              "      background-color: #3B4455;\n",
              "      fill: #D2E3FC;\n",
              "    }\n",
              "\n",
              "    [theme=dark] .colab-df-convert:hover {\n",
              "      background-color: #434B5C;\n",
              "      box-shadow: 0px 1px 3px 1px rgba(0, 0, 0, 0.15);\n",
              "      filter: drop-shadow(0px 1px 2px rgba(0, 0, 0, 0.3));\n",
              "      fill: #FFFFFF;\n",
              "    }\n",
              "  </style>\n",
              "\n",
              "      <script>\n",
              "        const buttonEl =\n",
              "          document.querySelector('#df-80a55dd0-6cf2-4568-b576-d7ef91dab9d8 button.colab-df-convert');\n",
              "        buttonEl.style.display =\n",
              "          google.colab.kernel.accessAllowed ? 'block' : 'none';\n",
              "\n",
              "        async function convertToInteractive(key) {\n",
              "          const element = document.querySelector('#df-80a55dd0-6cf2-4568-b576-d7ef91dab9d8');\n",
              "          const dataTable =\n",
              "            await google.colab.kernel.invokeFunction('convertToInteractive',\n",
              "                                                     [key], {});\n",
              "          if (!dataTable) return;\n",
              "\n",
              "          const docLinkHtml = 'Like what you see? Visit the ' +\n",
              "            '<a target=\"_blank\" href=https://colab.research.google.com/notebooks/data_table.ipynb>data table notebook</a>'\n",
              "            + ' to learn more about interactive tables.';\n",
              "          element.innerHTML = '';\n",
              "          dataTable['output_type'] = 'display_data';\n",
              "          await google.colab.output.renderOutput(dataTable, element);\n",
              "          const docLink = document.createElement('div');\n",
              "          docLink.innerHTML = docLinkHtml;\n",
              "          element.appendChild(docLink);\n",
              "        }\n",
              "      </script>\n",
              "    </div>\n",
              "  </div>\n",
              "  "
            ]
          },
          "metadata": {},
          "execution_count": 33
        }
      ]
    },
    {
      "cell_type": "code",
      "source": [
        "df['votes'] = df['votes'].astype(str).astype(int)"
      ],
      "metadata": {
        "colab": {
          "base_uri": "https://localhost:8080/",
          "height": 224
        },
        "id": "nght2Q8xaEw9",
        "outputId": "48afd706-2b7a-49c9-dba2-7660e0162c76"
      },
      "execution_count": null,
      "outputs": [
        {
          "output_type": "error",
          "ename": "ValueError",
          "evalue": "ignored",
          "traceback": [
            "\u001b[0;31m---------------------------------------------------------------------------\u001b[0m",
            "\u001b[0;31mValueError\u001b[0m                                Traceback (most recent call last)",
            "\u001b[0;32m<ipython-input-28-256621a38dc2>\u001b[0m in \u001b[0;36m<module>\u001b[0;34m\u001b[0m\n\u001b[0;32m----> 1\u001b[0;31m \u001b[0mdf\u001b[0m\u001b[0;34m[\u001b[0m\u001b[0;34m'votes'\u001b[0m\u001b[0;34m]\u001b[0m \u001b[0;34m=\u001b[0m \u001b[0mdf\u001b[0m\u001b[0;34m[\u001b[0m\u001b[0;34m'votes'\u001b[0m\u001b[0;34m]\u001b[0m\u001b[0;34m.\u001b[0m\u001b[0mastype\u001b[0m\u001b[0;34m(\u001b[0m\u001b[0mstr\u001b[0m\u001b[0;34m)\u001b[0m\u001b[0;34m.\u001b[0m\u001b[0mastype\u001b[0m\u001b[0;34m(\u001b[0m\u001b[0mint\u001b[0m\u001b[0;34m)\u001b[0m\u001b[0;34m\u001b[0m\u001b[0;34m\u001b[0m\u001b[0m\n\u001b[0m",
            "\u001b[0;32m/usr/local/lib/python3.7/dist-packages/pandas/core/generic.py\u001b[0m in \u001b[0;36mastype\u001b[0;34m(self, dtype, copy, errors)\u001b[0m\n\u001b[1;32m   5813\u001b[0m         \u001b[0;32melse\u001b[0m\u001b[0;34m:\u001b[0m\u001b[0;34m\u001b[0m\u001b[0;34m\u001b[0m\u001b[0m\n\u001b[1;32m   5814\u001b[0m             \u001b[0;31m# else, only a single dtype is given\u001b[0m\u001b[0;34m\u001b[0m\u001b[0;34m\u001b[0m\u001b[0;34m\u001b[0m\u001b[0m\n\u001b[0;32m-> 5815\u001b[0;31m             \u001b[0mnew_data\u001b[0m \u001b[0;34m=\u001b[0m \u001b[0mself\u001b[0m\u001b[0;34m.\u001b[0m\u001b[0m_mgr\u001b[0m\u001b[0;34m.\u001b[0m\u001b[0mastype\u001b[0m\u001b[0;34m(\u001b[0m\u001b[0mdtype\u001b[0m\u001b[0;34m=\u001b[0m\u001b[0mdtype\u001b[0m\u001b[0;34m,\u001b[0m \u001b[0mcopy\u001b[0m\u001b[0;34m=\u001b[0m\u001b[0mcopy\u001b[0m\u001b[0;34m,\u001b[0m \u001b[0merrors\u001b[0m\u001b[0;34m=\u001b[0m\u001b[0merrors\u001b[0m\u001b[0;34m)\u001b[0m\u001b[0;34m\u001b[0m\u001b[0;34m\u001b[0m\u001b[0m\n\u001b[0m\u001b[1;32m   5816\u001b[0m             \u001b[0;32mreturn\u001b[0m \u001b[0mself\u001b[0m\u001b[0;34m.\u001b[0m\u001b[0m_constructor\u001b[0m\u001b[0;34m(\u001b[0m\u001b[0mnew_data\u001b[0m\u001b[0;34m)\u001b[0m\u001b[0;34m.\u001b[0m\u001b[0m__finalize__\u001b[0m\u001b[0;34m(\u001b[0m\u001b[0mself\u001b[0m\u001b[0;34m,\u001b[0m \u001b[0mmethod\u001b[0m\u001b[0;34m=\u001b[0m\u001b[0;34m\"astype\"\u001b[0m\u001b[0;34m)\u001b[0m\u001b[0;34m\u001b[0m\u001b[0;34m\u001b[0m\u001b[0m\n\u001b[1;32m   5817\u001b[0m \u001b[0;34m\u001b[0m\u001b[0m\n",
            "\u001b[0;32m/usr/local/lib/python3.7/dist-packages/pandas/core/internals/managers.py\u001b[0m in \u001b[0;36mastype\u001b[0;34m(self, dtype, copy, errors)\u001b[0m\n\u001b[1;32m    416\u001b[0m \u001b[0;34m\u001b[0m\u001b[0m\n\u001b[1;32m    417\u001b[0m     \u001b[0;32mdef\u001b[0m \u001b[0mastype\u001b[0m\u001b[0;34m(\u001b[0m\u001b[0mself\u001b[0m\u001b[0;34m:\u001b[0m \u001b[0mT\u001b[0m\u001b[0;34m,\u001b[0m \u001b[0mdtype\u001b[0m\u001b[0;34m,\u001b[0m \u001b[0mcopy\u001b[0m\u001b[0;34m:\u001b[0m \u001b[0mbool\u001b[0m \u001b[0;34m=\u001b[0m \u001b[0;32mFalse\u001b[0m\u001b[0;34m,\u001b[0m \u001b[0merrors\u001b[0m\u001b[0;34m:\u001b[0m \u001b[0mstr\u001b[0m \u001b[0;34m=\u001b[0m \u001b[0;34m\"raise\"\u001b[0m\u001b[0;34m)\u001b[0m \u001b[0;34m->\u001b[0m \u001b[0mT\u001b[0m\u001b[0;34m:\u001b[0m\u001b[0;34m\u001b[0m\u001b[0;34m\u001b[0m\u001b[0m\n\u001b[0;32m--> 418\u001b[0;31m         \u001b[0;32mreturn\u001b[0m \u001b[0mself\u001b[0m\u001b[0;34m.\u001b[0m\u001b[0mapply\u001b[0m\u001b[0;34m(\u001b[0m\u001b[0;34m\"astype\"\u001b[0m\u001b[0;34m,\u001b[0m \u001b[0mdtype\u001b[0m\u001b[0;34m=\u001b[0m\u001b[0mdtype\u001b[0m\u001b[0;34m,\u001b[0m \u001b[0mcopy\u001b[0m\u001b[0;34m=\u001b[0m\u001b[0mcopy\u001b[0m\u001b[0;34m,\u001b[0m \u001b[0merrors\u001b[0m\u001b[0;34m=\u001b[0m\u001b[0merrors\u001b[0m\u001b[0;34m)\u001b[0m\u001b[0;34m\u001b[0m\u001b[0;34m\u001b[0m\u001b[0m\n\u001b[0m\u001b[1;32m    419\u001b[0m \u001b[0;34m\u001b[0m\u001b[0m\n\u001b[1;32m    420\u001b[0m     def convert(\n",
            "\u001b[0;32m/usr/local/lib/python3.7/dist-packages/pandas/core/internals/managers.py\u001b[0m in \u001b[0;36mapply\u001b[0;34m(self, f, align_keys, ignore_failures, **kwargs)\u001b[0m\n\u001b[1;32m    325\u001b[0m                     \u001b[0mapplied\u001b[0m \u001b[0;34m=\u001b[0m \u001b[0mb\u001b[0m\u001b[0;34m.\u001b[0m\u001b[0mapply\u001b[0m\u001b[0;34m(\u001b[0m\u001b[0mf\u001b[0m\u001b[0;34m,\u001b[0m \u001b[0;34m**\u001b[0m\u001b[0mkwargs\u001b[0m\u001b[0;34m)\u001b[0m\u001b[0;34m\u001b[0m\u001b[0;34m\u001b[0m\u001b[0m\n\u001b[1;32m    326\u001b[0m                 \u001b[0;32melse\u001b[0m\u001b[0;34m:\u001b[0m\u001b[0;34m\u001b[0m\u001b[0;34m\u001b[0m\u001b[0m\n\u001b[0;32m--> 327\u001b[0;31m                     \u001b[0mapplied\u001b[0m \u001b[0;34m=\u001b[0m \u001b[0mgetattr\u001b[0m\u001b[0;34m(\u001b[0m\u001b[0mb\u001b[0m\u001b[0;34m,\u001b[0m \u001b[0mf\u001b[0m\u001b[0;34m)\u001b[0m\u001b[0;34m(\u001b[0m\u001b[0;34m**\u001b[0m\u001b[0mkwargs\u001b[0m\u001b[0;34m)\u001b[0m\u001b[0;34m\u001b[0m\u001b[0;34m\u001b[0m\u001b[0m\n\u001b[0m\u001b[1;32m    328\u001b[0m             \u001b[0;32mexcept\u001b[0m \u001b[0;34m(\u001b[0m\u001b[0mTypeError\u001b[0m\u001b[0;34m,\u001b[0m \u001b[0mNotImplementedError\u001b[0m\u001b[0;34m)\u001b[0m\u001b[0;34m:\u001b[0m\u001b[0;34m\u001b[0m\u001b[0;34m\u001b[0m\u001b[0m\n\u001b[1;32m    329\u001b[0m                 \u001b[0;32mif\u001b[0m \u001b[0;32mnot\u001b[0m \u001b[0mignore_failures\u001b[0m\u001b[0;34m:\u001b[0m\u001b[0;34m\u001b[0m\u001b[0;34m\u001b[0m\u001b[0m\n",
            "\u001b[0;32m/usr/local/lib/python3.7/dist-packages/pandas/core/internals/blocks.py\u001b[0m in \u001b[0;36mastype\u001b[0;34m(self, dtype, copy, errors)\u001b[0m\n\u001b[1;32m    589\u001b[0m         \u001b[0mvalues\u001b[0m \u001b[0;34m=\u001b[0m \u001b[0mself\u001b[0m\u001b[0;34m.\u001b[0m\u001b[0mvalues\u001b[0m\u001b[0;34m\u001b[0m\u001b[0;34m\u001b[0m\u001b[0m\n\u001b[1;32m    590\u001b[0m \u001b[0;34m\u001b[0m\u001b[0m\n\u001b[0;32m--> 591\u001b[0;31m         \u001b[0mnew_values\u001b[0m \u001b[0;34m=\u001b[0m \u001b[0mastype_array_safe\u001b[0m\u001b[0;34m(\u001b[0m\u001b[0mvalues\u001b[0m\u001b[0;34m,\u001b[0m \u001b[0mdtype\u001b[0m\u001b[0;34m,\u001b[0m \u001b[0mcopy\u001b[0m\u001b[0;34m=\u001b[0m\u001b[0mcopy\u001b[0m\u001b[0;34m,\u001b[0m \u001b[0merrors\u001b[0m\u001b[0;34m=\u001b[0m\u001b[0merrors\u001b[0m\u001b[0;34m)\u001b[0m\u001b[0;34m\u001b[0m\u001b[0;34m\u001b[0m\u001b[0m\n\u001b[0m\u001b[1;32m    592\u001b[0m \u001b[0;34m\u001b[0m\u001b[0m\n\u001b[1;32m    593\u001b[0m         \u001b[0mnew_values\u001b[0m \u001b[0;34m=\u001b[0m \u001b[0mmaybe_coerce_values\u001b[0m\u001b[0;34m(\u001b[0m\u001b[0mnew_values\u001b[0m\u001b[0;34m)\u001b[0m\u001b[0;34m\u001b[0m\u001b[0;34m\u001b[0m\u001b[0m\n",
            "\u001b[0;32m/usr/local/lib/python3.7/dist-packages/pandas/core/dtypes/cast.py\u001b[0m in \u001b[0;36mastype_array_safe\u001b[0;34m(values, dtype, copy, errors)\u001b[0m\n\u001b[1;32m   1307\u001b[0m \u001b[0;34m\u001b[0m\u001b[0m\n\u001b[1;32m   1308\u001b[0m     \u001b[0;32mtry\u001b[0m\u001b[0;34m:\u001b[0m\u001b[0;34m\u001b[0m\u001b[0;34m\u001b[0m\u001b[0m\n\u001b[0;32m-> 1309\u001b[0;31m         \u001b[0mnew_values\u001b[0m \u001b[0;34m=\u001b[0m \u001b[0mastype_array\u001b[0m\u001b[0;34m(\u001b[0m\u001b[0mvalues\u001b[0m\u001b[0;34m,\u001b[0m \u001b[0mdtype\u001b[0m\u001b[0;34m,\u001b[0m \u001b[0mcopy\u001b[0m\u001b[0;34m=\u001b[0m\u001b[0mcopy\u001b[0m\u001b[0;34m)\u001b[0m\u001b[0;34m\u001b[0m\u001b[0;34m\u001b[0m\u001b[0m\n\u001b[0m\u001b[1;32m   1310\u001b[0m     \u001b[0;32mexcept\u001b[0m \u001b[0;34m(\u001b[0m\u001b[0mValueError\u001b[0m\u001b[0;34m,\u001b[0m \u001b[0mTypeError\u001b[0m\u001b[0;34m)\u001b[0m\u001b[0;34m:\u001b[0m\u001b[0;34m\u001b[0m\u001b[0;34m\u001b[0m\u001b[0m\n\u001b[1;32m   1311\u001b[0m         \u001b[0;31m# e.g. astype_nansafe can fail on object-dtype of strings\u001b[0m\u001b[0;34m\u001b[0m\u001b[0;34m\u001b[0m\u001b[0;34m\u001b[0m\u001b[0m\n",
            "\u001b[0;32m/usr/local/lib/python3.7/dist-packages/pandas/core/dtypes/cast.py\u001b[0m in \u001b[0;36mastype_array\u001b[0;34m(values, dtype, copy)\u001b[0m\n\u001b[1;32m   1255\u001b[0m \u001b[0;34m\u001b[0m\u001b[0m\n\u001b[1;32m   1256\u001b[0m     \u001b[0;32melse\u001b[0m\u001b[0;34m:\u001b[0m\u001b[0;34m\u001b[0m\u001b[0;34m\u001b[0m\u001b[0m\n\u001b[0;32m-> 1257\u001b[0;31m         \u001b[0mvalues\u001b[0m \u001b[0;34m=\u001b[0m \u001b[0mastype_nansafe\u001b[0m\u001b[0;34m(\u001b[0m\u001b[0mvalues\u001b[0m\u001b[0;34m,\u001b[0m \u001b[0mdtype\u001b[0m\u001b[0;34m,\u001b[0m \u001b[0mcopy\u001b[0m\u001b[0;34m=\u001b[0m\u001b[0mcopy\u001b[0m\u001b[0;34m)\u001b[0m\u001b[0;34m\u001b[0m\u001b[0;34m\u001b[0m\u001b[0m\n\u001b[0m\u001b[1;32m   1258\u001b[0m \u001b[0;34m\u001b[0m\u001b[0m\n\u001b[1;32m   1259\u001b[0m     \u001b[0;31m# in pandas we don't store numpy str dtypes, so convert to object\u001b[0m\u001b[0;34m\u001b[0m\u001b[0;34m\u001b[0m\u001b[0;34m\u001b[0m\u001b[0m\n",
            "\u001b[0;32m/usr/local/lib/python3.7/dist-packages/pandas/core/dtypes/cast.py\u001b[0m in \u001b[0;36mastype_nansafe\u001b[0;34m(arr, dtype, copy, skipna)\u001b[0m\n\u001b[1;32m   1172\u001b[0m         \u001b[0;31m# work around NumPy brokenness, #1987\u001b[0m\u001b[0;34m\u001b[0m\u001b[0;34m\u001b[0m\u001b[0;34m\u001b[0m\u001b[0m\n\u001b[1;32m   1173\u001b[0m         \u001b[0;32mif\u001b[0m \u001b[0mnp\u001b[0m\u001b[0;34m.\u001b[0m\u001b[0missubdtype\u001b[0m\u001b[0;34m(\u001b[0m\u001b[0mdtype\u001b[0m\u001b[0;34m.\u001b[0m\u001b[0mtype\u001b[0m\u001b[0;34m,\u001b[0m \u001b[0mnp\u001b[0m\u001b[0;34m.\u001b[0m\u001b[0minteger\u001b[0m\u001b[0;34m)\u001b[0m\u001b[0;34m:\u001b[0m\u001b[0;34m\u001b[0m\u001b[0;34m\u001b[0m\u001b[0m\n\u001b[0;32m-> 1174\u001b[0;31m             \u001b[0;32mreturn\u001b[0m \u001b[0mlib\u001b[0m\u001b[0;34m.\u001b[0m\u001b[0mastype_intsafe\u001b[0m\u001b[0;34m(\u001b[0m\u001b[0marr\u001b[0m\u001b[0;34m,\u001b[0m \u001b[0mdtype\u001b[0m\u001b[0;34m)\u001b[0m\u001b[0;34m\u001b[0m\u001b[0;34m\u001b[0m\u001b[0m\n\u001b[0m\u001b[1;32m   1175\u001b[0m \u001b[0;34m\u001b[0m\u001b[0m\n\u001b[1;32m   1176\u001b[0m         \u001b[0;31m# if we have a datetime/timedelta array of objects\u001b[0m\u001b[0;34m\u001b[0m\u001b[0;34m\u001b[0m\u001b[0;34m\u001b[0m\u001b[0m\n",
            "\u001b[0;32m/usr/local/lib/python3.7/dist-packages/pandas/_libs/lib.pyx\u001b[0m in \u001b[0;36mpandas._libs.lib.astype_intsafe\u001b[0;34m()\u001b[0m\n",
            "\u001b[0;31mValueError\u001b[0m: invalid literal for int() with base 10: '177,031'"
          ]
        }
      ]
    },
    {
      "cell_type": "code",
      "source": [
        "df.info()"
      ],
      "metadata": {
        "colab": {
          "base_uri": "https://localhost:8080/"
        },
        "id": "OoGiczjKZ02x",
        "outputId": "841d6895-fe29-485d-f4af-a77d96861e33"
      },
      "execution_count": null,
      "outputs": [
        {
          "output_type": "stream",
          "name": "stdout",
          "text": [
            "<class 'pandas.core.frame.DataFrame'>\n",
            "RangeIndex: 9957 entries, 0 to 9956\n",
            "Data columns (total 10 columns):\n",
            " #   Column                Non-Null Count  Dtype  \n",
            "---  ------                --------------  -----  \n",
            " 0   title                 9957 non-null   object \n",
            " 1   year                  9430 non-null   object \n",
            " 2   length of characters  9957 non-null   int64  \n",
            " 3   certificate           6504 non-null   object \n",
            " 4   duration              7921 non-null   object \n",
            " 5   genre                 9884 non-null   object \n",
            " 6   rating                8784 non-null   float64\n",
            " 7   description           9957 non-null   object \n",
            " 8   stars                 9957 non-null   object \n",
            " 9   votes                 8784 non-null   float64\n",
            "dtypes: float64(2), int64(1), object(7)\n",
            "memory usage: 778.0+ KB\n"
          ]
        }
      ]
    },
    {
      "cell_type": "code",
      "source": [
        "df['rating'].describe()"
      ],
      "metadata": {
        "colab": {
          "base_uri": "https://localhost:8080/"
        },
        "id": "5drW51vNbmNE",
        "outputId": "b6d90ca1-75b8-4649-f88f-01e99964e018"
      },
      "execution_count": null,
      "outputs": [
        {
          "output_type": "execute_result",
          "data": {
            "text/plain": [
              "count    4330.000000\n",
              "mean        7.030901\n",
              "std         0.970189\n",
              "min         5.100000\n",
              "25%         6.300000\n",
              "50%         7.100000\n",
              "75%         7.700000\n",
              "max         9.900000\n",
              "Name: rating, dtype: float64"
            ]
          },
          "metadata": {},
          "execution_count": 39
        }
      ]
    },
    {
      "cell_type": "code",
      "source": [
        "df['votes'].describe()"
      ],
      "metadata": {
        "colab": {
          "base_uri": "https://localhost:8080/"
        },
        "id": "deJMtfKHbzak",
        "outputId": "bdb99155-365e-4b5c-9fc9-33912ab2ed3f"
      },
      "execution_count": null,
      "outputs": [
        {
          "output_type": "execute_result",
          "data": {
            "text/plain": [
              "count    4.330000e+03\n",
              "mean     3.857541e+04\n",
              "std      1.217516e+05\n",
              "min      1.001000e+03\n",
              "25%      2.162250e+03\n",
              "50%      4.999000e+03\n",
              "75%      1.986700e+04\n",
              "max      1.844075e+06\n",
              "Name: votes, dtype: float64"
            ]
          },
          "metadata": {},
          "execution_count": 40
        }
      ]
    },
    {
      "cell_type": "code",
      "source": [
        "df=df[(df['rating'] > 5) & (df['votes'] > 1000) ]"
      ],
      "metadata": {
        "id": "Mg4eRxkqZMBu"
      },
      "execution_count": null,
      "outputs": []
    },
    {
      "cell_type": "code",
      "source": [
        "df[\"certificate\"].unique()"
      ],
      "metadata": {
        "colab": {
          "base_uri": "https://localhost:8080/"
        },
        "id": "_3UEt53gcOLN",
        "outputId": "a9416185-4372-4c00-93f5-813f3bd7d64a"
      },
      "execution_count": null,
      "outputs": [
        {
          "output_type": "execute_result",
          "data": {
            "text/plain": [
              "array(['TV-14', 'TV-MA', 'PG-13', 'TV-PG', 'R', 'PG', 'Not Rated',\n",
              "       'TV-Y7-FV', 'Approved', 'G', 'Unrated', 'TV-G', 'TV-Y7', 'TV-Y',\n",
              "       'Passed', 'NC-17', '12'], dtype=object)"
            ]
          },
          "metadata": {},
          "execution_count": 46
        }
      ]
    },
    {
      "cell_type": "code",
      "source": [
        "children = ['TV-PG','PG','G','TV-G', 'TV-Y7', 'TV-Y']\n",
        "young_adult = ['TV-14','PG-13','NC-17', '12']\n",
        "adult = ['TV-MA','R','Not Rated', 'Approved','Unrated']\n",
        "\n",
        "\n",
        "def genre_update(df, x):\n",
        "  if df[x] in children:\n",
        "    df['update_certificate'] = 'children'\n",
        "  else:\n",
        "    df['update_certificate'] = 'update'\n"
      ],
      "metadata": {
        "id": "ftMFB5FXcz8V"
      },
      "execution_count": null,
      "outputs": []
    },
    {
      "cell_type": "code",
      "source": [
        "df_test = df.copy()"
      ],
      "metadata": {
        "id": "GCe1BoQnfjz2"
      },
      "execution_count": null,
      "outputs": []
    },
    {
      "cell_type": "code",
      "source": [
        "df.dropna(inplace=True)"
      ],
      "metadata": {
        "id": "ZuYeqRMh1TZb"
      },
      "execution_count": null,
      "outputs": []
    },
    {
      "cell_type": "code",
      "source": [
        "df.shape"
      ],
      "metadata": {
        "colab": {
          "base_uri": "https://localhost:8080/"
        },
        "id": "HjGJEJ-w1-H6",
        "outputId": "58b0ab28-c70e-4b8f-e8a6-040bc763e477"
      },
      "execution_count": null,
      "outputs": [
        {
          "output_type": "execute_result",
          "data": {
            "text/plain": [
              "(3572, 10)"
            ]
          },
          "metadata": {},
          "execution_count": 45
        }
      ]
    },
    {
      "cell_type": "code",
      "source": [
        "df['certificate'] = df['certificate'].values.tolist()\n",
        "df['genre'] = df['genre'].values.tolist()\n",
        "df['description'] = df['description'].values.tolist()\n",
        "df"
      ],
      "metadata": {
        "id": "O-ZqV55z1_dJ",
        "colab": {
          "base_uri": "https://localhost:8080/",
          "height": 424
        },
        "outputId": "3a4a3145-a47e-406f-d0d3-c98ffd827680"
      },
      "execution_count": null,
      "outputs": [
        {
          "output_type": "execute_result",
          "data": {
            "text/plain": [
              "                       title         year  length of characters certificate  \\\n",
              "0                  Cobra Kai     (2018– )                    10     [TV-14]   \n",
              "1                  The Crown     (2016– )                    10     [TV-MA]   \n",
              "2           Better Call Saul  (2015–2022)                    13     [TV-MA]   \n",
              "3              Devil in Ohio        -2022                     5     [TV-MA]   \n",
              "4     Cyberpunk: Edgerunners     (2022– )                    10     [TV-MA]   \n",
              "...                      ...          ...                   ...         ...   \n",
              "9952          The Imperfects     (2022– )                    10     [TV-MA]   \n",
              "9953        The Walking Dead  (2010–2022)                    13     [TV-MA]   \n",
              "9954               The Crown     (2016– )                    10     [TV-MA]   \n",
              "9955            Supernatural  (2005–2020)                    13     [TV-14]   \n",
              "9956           Devil in Ohio        -2022                     5     [TV-MA]   \n",
              "\n",
              "     duration                           genre  rating  \\\n",
              "0      30 min         [Action, Comedy, Drama]     8.5   \n",
              "1      58 min     [Biography, Drama, History]     8.7   \n",
              "2      46 min                  [Crime, Drama]     8.9   \n",
              "3     356 min        [Drama, Horror, Mystery]     5.9   \n",
              "4      24 min  [Animation, Action, Adventure]     8.6   \n",
              "...       ...                             ...     ...   \n",
              "9952   45 min      [Action, Adventure, Drama]     6.3   \n",
              "9953   44 min       [Drama, Horror, Thriller]     8.1   \n",
              "9954   58 min     [Biography, Drama, History]     8.7   \n",
              "9955   44 min        [Drama, Fantasy, Horror]     8.4   \n",
              "9956  356 min        [Drama, Horror, Mystery]     5.9   \n",
              "\n",
              "                                            description  \\\n",
              "0     [Decades, after, their, 1984, All, Valley, Kar...   \n",
              "1     [Follows, the, political, rivalries, and, roma...   \n",
              "2     [The, trials, and, tribulations, of, criminal,...   \n",
              "3     [When, a, psychiatrist, shelters, a, mysteriou...   \n",
              "4     [A, Street, Kid, trying, to, survive, in, a, t...   \n",
              "...                                                 ...   \n",
              "9952  [After, an, experimental, gene, therapy, turns...   \n",
              "9953  [Sheriff, Deputy, Rick, Grimes, wakes, up, fro...   \n",
              "9954  [Follows, the, political, rivalries, and, roma...   \n",
              "9955  [Two, brothers, follow, their, father's, foots...   \n",
              "9956  [When, a, psychiatrist, shelters, a, mysteriou...   \n",
              "\n",
              "                                                  stars     votes  \n",
              "0     ['Ralph Macchio, ', 'William Zabka, ', 'Courtn...  177031.0  \n",
              "1     ['Claire Foy, ', 'Olivia Colman, ', 'Imelda St...  199885.0  \n",
              "2     ['Bob Odenkirk, ', 'Rhea Seehorn, ', 'Jonathan...  501384.0  \n",
              "3     ['Emily Deschanel, ', 'Sam Jaeger, ', 'Gerardo...    9773.0  \n",
              "4     ['Zach Aguilar, ', 'Kenichiro Ohashi, ', 'Emi ...   15413.0  \n",
              "...                                                 ...       ...  \n",
              "9952  ['Morgan Taylor Campbell, ', 'Italia Ricci, ',...    3130.0  \n",
              "9953  ['Andrew Lincoln, ', 'Norman Reedus, ', 'Melis...  970067.0  \n",
              "9954  ['Claire Foy, ', 'Olivia Colman, ', 'Imelda St...  199898.0  \n",
              "9955  ['Jared Padalecki, ', 'Jensen Ackles, ', 'Jim ...  439601.0  \n",
              "9956  ['Emily Deschanel, ', 'Sam Jaeger, ', 'Gerardo...    9786.0  \n",
              "\n",
              "[3572 rows x 10 columns]"
            ],
            "text/html": [
              "\n",
              "  <div id=\"df-663600a2-ba21-4519-9345-ab45143030ce\">\n",
              "    <div class=\"colab-df-container\">\n",
              "      <div>\n",
              "<style scoped>\n",
              "    .dataframe tbody tr th:only-of-type {\n",
              "        vertical-align: middle;\n",
              "    }\n",
              "\n",
              "    .dataframe tbody tr th {\n",
              "        vertical-align: top;\n",
              "    }\n",
              "\n",
              "    .dataframe thead th {\n",
              "        text-align: right;\n",
              "    }\n",
              "</style>\n",
              "<table border=\"1\" class=\"dataframe\">\n",
              "  <thead>\n",
              "    <tr style=\"text-align: right;\">\n",
              "      <th></th>\n",
              "      <th>title</th>\n",
              "      <th>year</th>\n",
              "      <th>length of characters</th>\n",
              "      <th>certificate</th>\n",
              "      <th>duration</th>\n",
              "      <th>genre</th>\n",
              "      <th>rating</th>\n",
              "      <th>description</th>\n",
              "      <th>stars</th>\n",
              "      <th>votes</th>\n",
              "    </tr>\n",
              "  </thead>\n",
              "  <tbody>\n",
              "    <tr>\n",
              "      <th>0</th>\n",
              "      <td>Cobra Kai</td>\n",
              "      <td>(2018– )</td>\n",
              "      <td>10</td>\n",
              "      <td>[TV-14]</td>\n",
              "      <td>30 min</td>\n",
              "      <td>[Action, Comedy, Drama]</td>\n",
              "      <td>8.5</td>\n",
              "      <td>[Decades, after, their, 1984, All, Valley, Kar...</td>\n",
              "      <td>['Ralph Macchio, ', 'William Zabka, ', 'Courtn...</td>\n",
              "      <td>177031.0</td>\n",
              "    </tr>\n",
              "    <tr>\n",
              "      <th>1</th>\n",
              "      <td>The Crown</td>\n",
              "      <td>(2016– )</td>\n",
              "      <td>10</td>\n",
              "      <td>[TV-MA]</td>\n",
              "      <td>58 min</td>\n",
              "      <td>[Biography, Drama, History]</td>\n",
              "      <td>8.7</td>\n",
              "      <td>[Follows, the, political, rivalries, and, roma...</td>\n",
              "      <td>['Claire Foy, ', 'Olivia Colman, ', 'Imelda St...</td>\n",
              "      <td>199885.0</td>\n",
              "    </tr>\n",
              "    <tr>\n",
              "      <th>2</th>\n",
              "      <td>Better Call Saul</td>\n",
              "      <td>(2015–2022)</td>\n",
              "      <td>13</td>\n",
              "      <td>[TV-MA]</td>\n",
              "      <td>46 min</td>\n",
              "      <td>[Crime, Drama]</td>\n",
              "      <td>8.9</td>\n",
              "      <td>[The, trials, and, tribulations, of, criminal,...</td>\n",
              "      <td>['Bob Odenkirk, ', 'Rhea Seehorn, ', 'Jonathan...</td>\n",
              "      <td>501384.0</td>\n",
              "    </tr>\n",
              "    <tr>\n",
              "      <th>3</th>\n",
              "      <td>Devil in Ohio</td>\n",
              "      <td>-2022</td>\n",
              "      <td>5</td>\n",
              "      <td>[TV-MA]</td>\n",
              "      <td>356 min</td>\n",
              "      <td>[Drama, Horror, Mystery]</td>\n",
              "      <td>5.9</td>\n",
              "      <td>[When, a, psychiatrist, shelters, a, mysteriou...</td>\n",
              "      <td>['Emily Deschanel, ', 'Sam Jaeger, ', 'Gerardo...</td>\n",
              "      <td>9773.0</td>\n",
              "    </tr>\n",
              "    <tr>\n",
              "      <th>4</th>\n",
              "      <td>Cyberpunk: Edgerunners</td>\n",
              "      <td>(2022– )</td>\n",
              "      <td>10</td>\n",
              "      <td>[TV-MA]</td>\n",
              "      <td>24 min</td>\n",
              "      <td>[Animation, Action, Adventure]</td>\n",
              "      <td>8.6</td>\n",
              "      <td>[A, Street, Kid, trying, to, survive, in, a, t...</td>\n",
              "      <td>['Zach Aguilar, ', 'Kenichiro Ohashi, ', 'Emi ...</td>\n",
              "      <td>15413.0</td>\n",
              "    </tr>\n",
              "    <tr>\n",
              "      <th>...</th>\n",
              "      <td>...</td>\n",
              "      <td>...</td>\n",
              "      <td>...</td>\n",
              "      <td>...</td>\n",
              "      <td>...</td>\n",
              "      <td>...</td>\n",
              "      <td>...</td>\n",
              "      <td>...</td>\n",
              "      <td>...</td>\n",
              "      <td>...</td>\n",
              "    </tr>\n",
              "    <tr>\n",
              "      <th>9952</th>\n",
              "      <td>The Imperfects</td>\n",
              "      <td>(2022– )</td>\n",
              "      <td>10</td>\n",
              "      <td>[TV-MA]</td>\n",
              "      <td>45 min</td>\n",
              "      <td>[Action, Adventure, Drama]</td>\n",
              "      <td>6.3</td>\n",
              "      <td>[After, an, experimental, gene, therapy, turns...</td>\n",
              "      <td>['Morgan Taylor Campbell, ', 'Italia Ricci, ',...</td>\n",
              "      <td>3130.0</td>\n",
              "    </tr>\n",
              "    <tr>\n",
              "      <th>9953</th>\n",
              "      <td>The Walking Dead</td>\n",
              "      <td>(2010–2022)</td>\n",
              "      <td>13</td>\n",
              "      <td>[TV-MA]</td>\n",
              "      <td>44 min</td>\n",
              "      <td>[Drama, Horror, Thriller]</td>\n",
              "      <td>8.1</td>\n",
              "      <td>[Sheriff, Deputy, Rick, Grimes, wakes, up, fro...</td>\n",
              "      <td>['Andrew Lincoln, ', 'Norman Reedus, ', 'Melis...</td>\n",
              "      <td>970067.0</td>\n",
              "    </tr>\n",
              "    <tr>\n",
              "      <th>9954</th>\n",
              "      <td>The Crown</td>\n",
              "      <td>(2016– )</td>\n",
              "      <td>10</td>\n",
              "      <td>[TV-MA]</td>\n",
              "      <td>58 min</td>\n",
              "      <td>[Biography, Drama, History]</td>\n",
              "      <td>8.7</td>\n",
              "      <td>[Follows, the, political, rivalries, and, roma...</td>\n",
              "      <td>['Claire Foy, ', 'Olivia Colman, ', 'Imelda St...</td>\n",
              "      <td>199898.0</td>\n",
              "    </tr>\n",
              "    <tr>\n",
              "      <th>9955</th>\n",
              "      <td>Supernatural</td>\n",
              "      <td>(2005–2020)</td>\n",
              "      <td>13</td>\n",
              "      <td>[TV-14]</td>\n",
              "      <td>44 min</td>\n",
              "      <td>[Drama, Fantasy, Horror]</td>\n",
              "      <td>8.4</td>\n",
              "      <td>[Two, brothers, follow, their, father's, foots...</td>\n",
              "      <td>['Jared Padalecki, ', 'Jensen Ackles, ', 'Jim ...</td>\n",
              "      <td>439601.0</td>\n",
              "    </tr>\n",
              "    <tr>\n",
              "      <th>9956</th>\n",
              "      <td>Devil in Ohio</td>\n",
              "      <td>-2022</td>\n",
              "      <td>5</td>\n",
              "      <td>[TV-MA]</td>\n",
              "      <td>356 min</td>\n",
              "      <td>[Drama, Horror, Mystery]</td>\n",
              "      <td>5.9</td>\n",
              "      <td>[When, a, psychiatrist, shelters, a, mysteriou...</td>\n",
              "      <td>['Emily Deschanel, ', 'Sam Jaeger, ', 'Gerardo...</td>\n",
              "      <td>9786.0</td>\n",
              "    </tr>\n",
              "  </tbody>\n",
              "</table>\n",
              "<p>3572 rows × 10 columns</p>\n",
              "</div>\n",
              "      <button class=\"colab-df-convert\" onclick=\"convertToInteractive('df-663600a2-ba21-4519-9345-ab45143030ce')\"\n",
              "              title=\"Convert this dataframe to an interactive table.\"\n",
              "              style=\"display:none;\">\n",
              "        \n",
              "  <svg xmlns=\"http://www.w3.org/2000/svg\" height=\"24px\"viewBox=\"0 0 24 24\"\n",
              "       width=\"24px\">\n",
              "    <path d=\"M0 0h24v24H0V0z\" fill=\"none\"/>\n",
              "    <path d=\"M18.56 5.44l.94 2.06.94-2.06 2.06-.94-2.06-.94-.94-2.06-.94 2.06-2.06.94zm-11 1L8.5 8.5l.94-2.06 2.06-.94-2.06-.94L8.5 2.5l-.94 2.06-2.06.94zm10 10l.94 2.06.94-2.06 2.06-.94-2.06-.94-.94-2.06-.94 2.06-2.06.94z\"/><path d=\"M17.41 7.96l-1.37-1.37c-.4-.4-.92-.59-1.43-.59-.52 0-1.04.2-1.43.59L10.3 9.45l-7.72 7.72c-.78.78-.78 2.05 0 2.83L4 21.41c.39.39.9.59 1.41.59.51 0 1.02-.2 1.41-.59l7.78-7.78 2.81-2.81c.8-.78.8-2.07 0-2.86zM5.41 20L4 18.59l7.72-7.72 1.47 1.35L5.41 20z\"/>\n",
              "  </svg>\n",
              "      </button>\n",
              "      \n",
              "  <style>\n",
              "    .colab-df-container {\n",
              "      display:flex;\n",
              "      flex-wrap:wrap;\n",
              "      gap: 12px;\n",
              "    }\n",
              "\n",
              "    .colab-df-convert {\n",
              "      background-color: #E8F0FE;\n",
              "      border: none;\n",
              "      border-radius: 50%;\n",
              "      cursor: pointer;\n",
              "      display: none;\n",
              "      fill: #1967D2;\n",
              "      height: 32px;\n",
              "      padding: 0 0 0 0;\n",
              "      width: 32px;\n",
              "    }\n",
              "\n",
              "    .colab-df-convert:hover {\n",
              "      background-color: #E2EBFA;\n",
              "      box-shadow: 0px 1px 2px rgba(60, 64, 67, 0.3), 0px 1px 3px 1px rgba(60, 64, 67, 0.15);\n",
              "      fill: #174EA6;\n",
              "    }\n",
              "\n",
              "    [theme=dark] .colab-df-convert {\n",
              "      background-color: #3B4455;\n",
              "      fill: #D2E3FC;\n",
              "    }\n",
              "\n",
              "    [theme=dark] .colab-df-convert:hover {\n",
              "      background-color: #434B5C;\n",
              "      box-shadow: 0px 1px 3px 1px rgba(0, 0, 0, 0.15);\n",
              "      filter: drop-shadow(0px 1px 2px rgba(0, 0, 0, 0.3));\n",
              "      fill: #FFFFFF;\n",
              "    }\n",
              "  </style>\n",
              "\n",
              "      <script>\n",
              "        const buttonEl =\n",
              "          document.querySelector('#df-663600a2-ba21-4519-9345-ab45143030ce button.colab-df-convert');\n",
              "        buttonEl.style.display =\n",
              "          google.colab.kernel.accessAllowed ? 'block' : 'none';\n",
              "\n",
              "        async function convertToInteractive(key) {\n",
              "          const element = document.querySelector('#df-663600a2-ba21-4519-9345-ab45143030ce');\n",
              "          const dataTable =\n",
              "            await google.colab.kernel.invokeFunction('convertToInteractive',\n",
              "                                                     [key], {});\n",
              "          if (!dataTable) return;\n",
              "\n",
              "          const docLinkHtml = 'Like what you see? Visit the ' +\n",
              "            '<a target=\"_blank\" href=https://colab.research.google.com/notebooks/data_table.ipynb>data table notebook</a>'\n",
              "            + ' to learn more about interactive tables.';\n",
              "          element.innerHTML = '';\n",
              "          dataTable['output_type'] = 'display_data';\n",
              "          await google.colab.output.renderOutput(dataTable, element);\n",
              "          const docLink = document.createElement('div');\n",
              "          docLink.innerHTML = docLinkHtml;\n",
              "          element.appendChild(docLink);\n",
              "        }\n",
              "      </script>\n",
              "    </div>\n",
              "  </div>\n",
              "  "
            ]
          },
          "metadata": {},
          "execution_count": 95
        }
      ]
    },
    {
      "cell_type": "code",
      "source": [
        "def split_cast(data):\n",
        "  split_data=data.split(\", ', '\")\n",
        "  names=[]\n",
        "  for i in split_data:\n",
        "    if '[' in i or ']' in i:\n",
        "        i=i.replace('[','')\n",
        "        i=i.replace(']','')\n",
        "        i=i.replace(\"'\",'')\n",
        "        i=i.replace(' ','')\n",
        "        names.append(i)\n",
        "    else:\n",
        "      i=i.replace(' ','')\n",
        "      names.append(i)\n",
        "  if type(names)==list:\n",
        "    return names\n",
        "  else :\n",
        "    return list(names)"
      ],
      "metadata": {
        "id": "S6oRyzPJh906"
      },
      "execution_count": null,
      "outputs": []
    },
    {
      "cell_type": "code",
      "source": [
        "df['stars'] = df['stars'].apply(split_cast)"
      ],
      "metadata": {
        "id": "qOSz4FrTh3ui"
      },
      "execution_count": null,
      "outputs": []
    },
    {
      "cell_type": "code",
      "source": [
        "f = df['stars'].split(\", ', '\")"
      ],
      "metadata": {
        "id": "zPRCGGP4hFHu"
      },
      "execution_count": null,
      "outputs": []
    },
    {
      "cell_type": "code",
      "source": [
        "df[df[\"title\"]==\"Shutter\"]"
      ],
      "metadata": {
        "colab": {
          "base_uri": "https://localhost:8080/",
          "height": 125
        },
        "id": "WUlMvA7FkqXk",
        "outputId": "0a0a0379-8107-4d6f-824b-b490db730b0a"
      },
      "execution_count": null,
      "outputs": [
        {
          "output_type": "execute_result",
          "data": {
            "text/plain": [
              "        title         year  length of characters certificate duration  \\\n",
              "1321  Shutter  (II) (2004)                    11   Not Rated   97 min   \n",
              "\n",
              "                          genre  rating  \\\n",
              "1321  Horror, Mystery, Thriller     7.0   \n",
              "\n",
              "                                            description  \\\n",
              "1321  A young photographer and his girlfriend discov...   \n",
              "\n",
              "                                                  stars    votes  \\\n",
              "1321  ['Banjong Pisanthanakun, ', 'Parkpoom Wongpoom...  45222.0   \n",
              "\n",
              "                                   combined_description  \n",
              "1321  Horror, Mystery, Thriller A young photographer...  "
            ],
            "text/html": [
              "\n",
              "  <div id=\"df-4a680ffc-3433-499b-9a1c-805f09f9575e\">\n",
              "    <div class=\"colab-df-container\">\n",
              "      <div>\n",
              "<style scoped>\n",
              "    .dataframe tbody tr th:only-of-type {\n",
              "        vertical-align: middle;\n",
              "    }\n",
              "\n",
              "    .dataframe tbody tr th {\n",
              "        vertical-align: top;\n",
              "    }\n",
              "\n",
              "    .dataframe thead th {\n",
              "        text-align: right;\n",
              "    }\n",
              "</style>\n",
              "<table border=\"1\" class=\"dataframe\">\n",
              "  <thead>\n",
              "    <tr style=\"text-align: right;\">\n",
              "      <th></th>\n",
              "      <th>title</th>\n",
              "      <th>year</th>\n",
              "      <th>length of characters</th>\n",
              "      <th>certificate</th>\n",
              "      <th>duration</th>\n",
              "      <th>genre</th>\n",
              "      <th>rating</th>\n",
              "      <th>description</th>\n",
              "      <th>stars</th>\n",
              "      <th>votes</th>\n",
              "      <th>combined_description</th>\n",
              "    </tr>\n",
              "  </thead>\n",
              "  <tbody>\n",
              "    <tr>\n",
              "      <th>1321</th>\n",
              "      <td>Shutter</td>\n",
              "      <td>(II) (2004)</td>\n",
              "      <td>11</td>\n",
              "      <td>Not Rated</td>\n",
              "      <td>97 min</td>\n",
              "      <td>Horror, Mystery, Thriller</td>\n",
              "      <td>7.0</td>\n",
              "      <td>A young photographer and his girlfriend discov...</td>\n",
              "      <td>['Banjong Pisanthanakun, ', 'Parkpoom Wongpoom...</td>\n",
              "      <td>45222.0</td>\n",
              "      <td>Horror, Mystery, Thriller A young photographer...</td>\n",
              "    </tr>\n",
              "  </tbody>\n",
              "</table>\n",
              "</div>\n",
              "      <button class=\"colab-df-convert\" onclick=\"convertToInteractive('df-4a680ffc-3433-499b-9a1c-805f09f9575e')\"\n",
              "              title=\"Convert this dataframe to an interactive table.\"\n",
              "              style=\"display:none;\">\n",
              "        \n",
              "  <svg xmlns=\"http://www.w3.org/2000/svg\" height=\"24px\"viewBox=\"0 0 24 24\"\n",
              "       width=\"24px\">\n",
              "    <path d=\"M0 0h24v24H0V0z\" fill=\"none\"/>\n",
              "    <path d=\"M18.56 5.44l.94 2.06.94-2.06 2.06-.94-2.06-.94-.94-2.06-.94 2.06-2.06.94zm-11 1L8.5 8.5l.94-2.06 2.06-.94-2.06-.94L8.5 2.5l-.94 2.06-2.06.94zm10 10l.94 2.06.94-2.06 2.06-.94-2.06-.94-.94-2.06-.94 2.06-2.06.94z\"/><path d=\"M17.41 7.96l-1.37-1.37c-.4-.4-.92-.59-1.43-.59-.52 0-1.04.2-1.43.59L10.3 9.45l-7.72 7.72c-.78.78-.78 2.05 0 2.83L4 21.41c.39.39.9.59 1.41.59.51 0 1.02-.2 1.41-.59l7.78-7.78 2.81-2.81c.8-.78.8-2.07 0-2.86zM5.41 20L4 18.59l7.72-7.72 1.47 1.35L5.41 20z\"/>\n",
              "  </svg>\n",
              "      </button>\n",
              "      \n",
              "  <style>\n",
              "    .colab-df-container {\n",
              "      display:flex;\n",
              "      flex-wrap:wrap;\n",
              "      gap: 12px;\n",
              "    }\n",
              "\n",
              "    .colab-df-convert {\n",
              "      background-color: #E8F0FE;\n",
              "      border: none;\n",
              "      border-radius: 50%;\n",
              "      cursor: pointer;\n",
              "      display: none;\n",
              "      fill: #1967D2;\n",
              "      height: 32px;\n",
              "      padding: 0 0 0 0;\n",
              "      width: 32px;\n",
              "    }\n",
              "\n",
              "    .colab-df-convert:hover {\n",
              "      background-color: #E2EBFA;\n",
              "      box-shadow: 0px 1px 2px rgba(60, 64, 67, 0.3), 0px 1px 3px 1px rgba(60, 64, 67, 0.15);\n",
              "      fill: #174EA6;\n",
              "    }\n",
              "\n",
              "    [theme=dark] .colab-df-convert {\n",
              "      background-color: #3B4455;\n",
              "      fill: #D2E3FC;\n",
              "    }\n",
              "\n",
              "    [theme=dark] .colab-df-convert:hover {\n",
              "      background-color: #434B5C;\n",
              "      box-shadow: 0px 1px 3px 1px rgba(0, 0, 0, 0.15);\n",
              "      filter: drop-shadow(0px 1px 2px rgba(0, 0, 0, 0.3));\n",
              "      fill: #FFFFFF;\n",
              "    }\n",
              "  </style>\n",
              "\n",
              "      <script>\n",
              "        const buttonEl =\n",
              "          document.querySelector('#df-4a680ffc-3433-499b-9a1c-805f09f9575e button.colab-df-convert');\n",
              "        buttonEl.style.display =\n",
              "          google.colab.kernel.accessAllowed ? 'block' : 'none';\n",
              "\n",
              "        async function convertToInteractive(key) {\n",
              "          const element = document.querySelector('#df-4a680ffc-3433-499b-9a1c-805f09f9575e');\n",
              "          const dataTable =\n",
              "            await google.colab.kernel.invokeFunction('convertToInteractive',\n",
              "                                                     [key], {});\n",
              "          if (!dataTable) return;\n",
              "\n",
              "          const docLinkHtml = 'Like what you see? Visit the ' +\n",
              "            '<a target=\"_blank\" href=https://colab.research.google.com/notebooks/data_table.ipynb>data table notebook</a>'\n",
              "            + ' to learn more about interactive tables.';\n",
              "          element.innerHTML = '';\n",
              "          dataTable['output_type'] = 'display_data';\n",
              "          await google.colab.output.renderOutput(dataTable, element);\n",
              "          const docLink = document.createElement('div');\n",
              "          docLink.innerHTML = docLinkHtml;\n",
              "          element.appendChild(docLink);\n",
              "        }\n",
              "      </script>\n",
              "    </div>\n",
              "  </div>\n",
              "  "
            ]
          },
          "metadata": {},
          "execution_count": 291
        }
      ]
    },
    {
      "cell_type": "code",
      "source": [
        "df_test['certificate'] = df['certificate'].values.tolist()\n",
        "df_test['genre'] = df['genre'].values.tolist()\n",
        "df_test['description'] = df['description'].values.tolist()\n",
        "df_test"
      ],
      "metadata": {
        "colab": {
          "base_uri": "https://localhost:8080/",
          "height": 424
        },
        "id": "84psL_sYgIKi",
        "outputId": "7888b0d5-8db8-411f-c0f2-87920538bdc2"
      },
      "execution_count": null,
      "outputs": [
        {
          "output_type": "execute_result",
          "data": {
            "text/plain": [
              "                       title         year  length of characters certificate  \\\n",
              "0                  Cobra Kai     (2018– )                    10     [TV-14]   \n",
              "1                  The Crown     (2016– )                    10     [TV-MA]   \n",
              "2           Better Call Saul  (2015–2022)                    13     [TV-MA]   \n",
              "3              Devil in Ohio        -2022                     5     [TV-MA]   \n",
              "4     Cyberpunk: Edgerunners     (2022– )                    10     [TV-MA]   \n",
              "...                      ...          ...                   ...         ...   \n",
              "9952          The Imperfects     (2022– )                    10     [TV-MA]   \n",
              "9953        The Walking Dead  (2010–2022)                    13     [TV-MA]   \n",
              "9954               The Crown     (2016– )                    10     [TV-MA]   \n",
              "9955            Supernatural  (2005–2020)                    13     [TV-14]   \n",
              "9956           Devil in Ohio        -2022                     5     [TV-MA]   \n",
              "\n",
              "     duration                           genre  rating  \\\n",
              "0      30 min         [Action, Comedy, Drama]     8.5   \n",
              "1      58 min     [Biography, Drama, History]     8.7   \n",
              "2      46 min                  [Crime, Drama]     8.9   \n",
              "3     356 min        [Drama, Horror, Mystery]     5.9   \n",
              "4      24 min  [Animation, Action, Adventure]     8.6   \n",
              "...       ...                             ...     ...   \n",
              "9952   45 min      [Action, Adventure, Drama]     6.3   \n",
              "9953   44 min       [Drama, Horror, Thriller]     8.1   \n",
              "9954   58 min     [Biography, Drama, History]     8.7   \n",
              "9955   44 min        [Drama, Fantasy, Horror]     8.4   \n",
              "9956  356 min        [Drama, Horror, Mystery]     5.9   \n",
              "\n",
              "                                            description  \\\n",
              "0     [Decades, after, their, 1984, All, Valley, Kar...   \n",
              "1     [Follows, the, political, rivalries, and, roma...   \n",
              "2     [The, trials, and, tribulations, of, criminal,...   \n",
              "3     [When, a, psychiatrist, shelters, a, mysteriou...   \n",
              "4     [A, Street, Kid, trying, to, survive, in, a, t...   \n",
              "...                                                 ...   \n",
              "9952  [After, an, experimental, gene, therapy, turns...   \n",
              "9953  [Sheriff, Deputy, Rick, Grimes, wakes, up, fro...   \n",
              "9954  [Follows, the, political, rivalries, and, roma...   \n",
              "9955  [Two, brothers, follow, their, father's, foots...   \n",
              "9956  [When, a, psychiatrist, shelters, a, mysteriou...   \n",
              "\n",
              "                                                  stars     votes  \n",
              "0     ['Ralph Macchio, ', 'William Zabka, ', 'Courtn...  177031.0  \n",
              "1     ['Claire Foy, ', 'Olivia Colman, ', 'Imelda St...  199885.0  \n",
              "2     ['Bob Odenkirk, ', 'Rhea Seehorn, ', 'Jonathan...  501384.0  \n",
              "3     ['Emily Deschanel, ', 'Sam Jaeger, ', 'Gerardo...    9773.0  \n",
              "4     ['Zach Aguilar, ', 'Kenichiro Ohashi, ', 'Emi ...   15413.0  \n",
              "...                                                 ...       ...  \n",
              "9952  ['Morgan Taylor Campbell, ', 'Italia Ricci, ',...    3130.0  \n",
              "9953  ['Andrew Lincoln, ', 'Norman Reedus, ', 'Melis...  970067.0  \n",
              "9954  ['Claire Foy, ', 'Olivia Colman, ', 'Imelda St...  199898.0  \n",
              "9955  ['Jared Padalecki, ', 'Jensen Ackles, ', 'Jim ...  439601.0  \n",
              "9956  ['Emily Deschanel, ', 'Sam Jaeger, ', 'Gerardo...    9786.0  \n",
              "\n",
              "[3572 rows x 10 columns]"
            ],
            "text/html": [
              "\n",
              "  <div id=\"df-39797559-430f-44de-b34e-87a7dc36fe8b\">\n",
              "    <div class=\"colab-df-container\">\n",
              "      <div>\n",
              "<style scoped>\n",
              "    .dataframe tbody tr th:only-of-type {\n",
              "        vertical-align: middle;\n",
              "    }\n",
              "\n",
              "    .dataframe tbody tr th {\n",
              "        vertical-align: top;\n",
              "    }\n",
              "\n",
              "    .dataframe thead th {\n",
              "        text-align: right;\n",
              "    }\n",
              "</style>\n",
              "<table border=\"1\" class=\"dataframe\">\n",
              "  <thead>\n",
              "    <tr style=\"text-align: right;\">\n",
              "      <th></th>\n",
              "      <th>title</th>\n",
              "      <th>year</th>\n",
              "      <th>length of characters</th>\n",
              "      <th>certificate</th>\n",
              "      <th>duration</th>\n",
              "      <th>genre</th>\n",
              "      <th>rating</th>\n",
              "      <th>description</th>\n",
              "      <th>stars</th>\n",
              "      <th>votes</th>\n",
              "    </tr>\n",
              "  </thead>\n",
              "  <tbody>\n",
              "    <tr>\n",
              "      <th>0</th>\n",
              "      <td>Cobra Kai</td>\n",
              "      <td>(2018– )</td>\n",
              "      <td>10</td>\n",
              "      <td>[TV-14]</td>\n",
              "      <td>30 min</td>\n",
              "      <td>[Action, Comedy, Drama]</td>\n",
              "      <td>8.5</td>\n",
              "      <td>[Decades, after, their, 1984, All, Valley, Kar...</td>\n",
              "      <td>['Ralph Macchio, ', 'William Zabka, ', 'Courtn...</td>\n",
              "      <td>177031.0</td>\n",
              "    </tr>\n",
              "    <tr>\n",
              "      <th>1</th>\n",
              "      <td>The Crown</td>\n",
              "      <td>(2016– )</td>\n",
              "      <td>10</td>\n",
              "      <td>[TV-MA]</td>\n",
              "      <td>58 min</td>\n",
              "      <td>[Biography, Drama, History]</td>\n",
              "      <td>8.7</td>\n",
              "      <td>[Follows, the, political, rivalries, and, roma...</td>\n",
              "      <td>['Claire Foy, ', 'Olivia Colman, ', 'Imelda St...</td>\n",
              "      <td>199885.0</td>\n",
              "    </tr>\n",
              "    <tr>\n",
              "      <th>2</th>\n",
              "      <td>Better Call Saul</td>\n",
              "      <td>(2015–2022)</td>\n",
              "      <td>13</td>\n",
              "      <td>[TV-MA]</td>\n",
              "      <td>46 min</td>\n",
              "      <td>[Crime, Drama]</td>\n",
              "      <td>8.9</td>\n",
              "      <td>[The, trials, and, tribulations, of, criminal,...</td>\n",
              "      <td>['Bob Odenkirk, ', 'Rhea Seehorn, ', 'Jonathan...</td>\n",
              "      <td>501384.0</td>\n",
              "    </tr>\n",
              "    <tr>\n",
              "      <th>3</th>\n",
              "      <td>Devil in Ohio</td>\n",
              "      <td>-2022</td>\n",
              "      <td>5</td>\n",
              "      <td>[TV-MA]</td>\n",
              "      <td>356 min</td>\n",
              "      <td>[Drama, Horror, Mystery]</td>\n",
              "      <td>5.9</td>\n",
              "      <td>[When, a, psychiatrist, shelters, a, mysteriou...</td>\n",
              "      <td>['Emily Deschanel, ', 'Sam Jaeger, ', 'Gerardo...</td>\n",
              "      <td>9773.0</td>\n",
              "    </tr>\n",
              "    <tr>\n",
              "      <th>4</th>\n",
              "      <td>Cyberpunk: Edgerunners</td>\n",
              "      <td>(2022– )</td>\n",
              "      <td>10</td>\n",
              "      <td>[TV-MA]</td>\n",
              "      <td>24 min</td>\n",
              "      <td>[Animation, Action, Adventure]</td>\n",
              "      <td>8.6</td>\n",
              "      <td>[A, Street, Kid, trying, to, survive, in, a, t...</td>\n",
              "      <td>['Zach Aguilar, ', 'Kenichiro Ohashi, ', 'Emi ...</td>\n",
              "      <td>15413.0</td>\n",
              "    </tr>\n",
              "    <tr>\n",
              "      <th>...</th>\n",
              "      <td>...</td>\n",
              "      <td>...</td>\n",
              "      <td>...</td>\n",
              "      <td>...</td>\n",
              "      <td>...</td>\n",
              "      <td>...</td>\n",
              "      <td>...</td>\n",
              "      <td>...</td>\n",
              "      <td>...</td>\n",
              "      <td>...</td>\n",
              "    </tr>\n",
              "    <tr>\n",
              "      <th>9952</th>\n",
              "      <td>The Imperfects</td>\n",
              "      <td>(2022– )</td>\n",
              "      <td>10</td>\n",
              "      <td>[TV-MA]</td>\n",
              "      <td>45 min</td>\n",
              "      <td>[Action, Adventure, Drama]</td>\n",
              "      <td>6.3</td>\n",
              "      <td>[After, an, experimental, gene, therapy, turns...</td>\n",
              "      <td>['Morgan Taylor Campbell, ', 'Italia Ricci, ',...</td>\n",
              "      <td>3130.0</td>\n",
              "    </tr>\n",
              "    <tr>\n",
              "      <th>9953</th>\n",
              "      <td>The Walking Dead</td>\n",
              "      <td>(2010–2022)</td>\n",
              "      <td>13</td>\n",
              "      <td>[TV-MA]</td>\n",
              "      <td>44 min</td>\n",
              "      <td>[Drama, Horror, Thriller]</td>\n",
              "      <td>8.1</td>\n",
              "      <td>[Sheriff, Deputy, Rick, Grimes, wakes, up, fro...</td>\n",
              "      <td>['Andrew Lincoln, ', 'Norman Reedus, ', 'Melis...</td>\n",
              "      <td>970067.0</td>\n",
              "    </tr>\n",
              "    <tr>\n",
              "      <th>9954</th>\n",
              "      <td>The Crown</td>\n",
              "      <td>(2016– )</td>\n",
              "      <td>10</td>\n",
              "      <td>[TV-MA]</td>\n",
              "      <td>58 min</td>\n",
              "      <td>[Biography, Drama, History]</td>\n",
              "      <td>8.7</td>\n",
              "      <td>[Follows, the, political, rivalries, and, roma...</td>\n",
              "      <td>['Claire Foy, ', 'Olivia Colman, ', 'Imelda St...</td>\n",
              "      <td>199898.0</td>\n",
              "    </tr>\n",
              "    <tr>\n",
              "      <th>9955</th>\n",
              "      <td>Supernatural</td>\n",
              "      <td>(2005–2020)</td>\n",
              "      <td>13</td>\n",
              "      <td>[TV-14]</td>\n",
              "      <td>44 min</td>\n",
              "      <td>[Drama, Fantasy, Horror]</td>\n",
              "      <td>8.4</td>\n",
              "      <td>[Two, brothers, follow, their, father's, foots...</td>\n",
              "      <td>['Jared Padalecki, ', 'Jensen Ackles, ', 'Jim ...</td>\n",
              "      <td>439601.0</td>\n",
              "    </tr>\n",
              "    <tr>\n",
              "      <th>9956</th>\n",
              "      <td>Devil in Ohio</td>\n",
              "      <td>-2022</td>\n",
              "      <td>5</td>\n",
              "      <td>[TV-MA]</td>\n",
              "      <td>356 min</td>\n",
              "      <td>[Drama, Horror, Mystery]</td>\n",
              "      <td>5.9</td>\n",
              "      <td>[When, a, psychiatrist, shelters, a, mysteriou...</td>\n",
              "      <td>['Emily Deschanel, ', 'Sam Jaeger, ', 'Gerardo...</td>\n",
              "      <td>9786.0</td>\n",
              "    </tr>\n",
              "  </tbody>\n",
              "</table>\n",
              "<p>3572 rows × 10 columns</p>\n",
              "</div>\n",
              "      <button class=\"colab-df-convert\" onclick=\"convertToInteractive('df-39797559-430f-44de-b34e-87a7dc36fe8b')\"\n",
              "              title=\"Convert this dataframe to an interactive table.\"\n",
              "              style=\"display:none;\">\n",
              "        \n",
              "  <svg xmlns=\"http://www.w3.org/2000/svg\" height=\"24px\"viewBox=\"0 0 24 24\"\n",
              "       width=\"24px\">\n",
              "    <path d=\"M0 0h24v24H0V0z\" fill=\"none\"/>\n",
              "    <path d=\"M18.56 5.44l.94 2.06.94-2.06 2.06-.94-2.06-.94-.94-2.06-.94 2.06-2.06.94zm-11 1L8.5 8.5l.94-2.06 2.06-.94-2.06-.94L8.5 2.5l-.94 2.06-2.06.94zm10 10l.94 2.06.94-2.06 2.06-.94-2.06-.94-.94-2.06-.94 2.06-2.06.94z\"/><path d=\"M17.41 7.96l-1.37-1.37c-.4-.4-.92-.59-1.43-.59-.52 0-1.04.2-1.43.59L10.3 9.45l-7.72 7.72c-.78.78-.78 2.05 0 2.83L4 21.41c.39.39.9.59 1.41.59.51 0 1.02-.2 1.41-.59l7.78-7.78 2.81-2.81c.8-.78.8-2.07 0-2.86zM5.41 20L4 18.59l7.72-7.72 1.47 1.35L5.41 20z\"/>\n",
              "  </svg>\n",
              "      </button>\n",
              "      \n",
              "  <style>\n",
              "    .colab-df-container {\n",
              "      display:flex;\n",
              "      flex-wrap:wrap;\n",
              "      gap: 12px;\n",
              "    }\n",
              "\n",
              "    .colab-df-convert {\n",
              "      background-color: #E8F0FE;\n",
              "      border: none;\n",
              "      border-radius: 50%;\n",
              "      cursor: pointer;\n",
              "      display: none;\n",
              "      fill: #1967D2;\n",
              "      height: 32px;\n",
              "      padding: 0 0 0 0;\n",
              "      width: 32px;\n",
              "    }\n",
              "\n",
              "    .colab-df-convert:hover {\n",
              "      background-color: #E2EBFA;\n",
              "      box-shadow: 0px 1px 2px rgba(60, 64, 67, 0.3), 0px 1px 3px 1px rgba(60, 64, 67, 0.15);\n",
              "      fill: #174EA6;\n",
              "    }\n",
              "\n",
              "    [theme=dark] .colab-df-convert {\n",
              "      background-color: #3B4455;\n",
              "      fill: #D2E3FC;\n",
              "    }\n",
              "\n",
              "    [theme=dark] .colab-df-convert:hover {\n",
              "      background-color: #434B5C;\n",
              "      box-shadow: 0px 1px 3px 1px rgba(0, 0, 0, 0.15);\n",
              "      filter: drop-shadow(0px 1px 2px rgba(0, 0, 0, 0.3));\n",
              "      fill: #FFFFFF;\n",
              "    }\n",
              "  </style>\n",
              "\n",
              "      <script>\n",
              "        const buttonEl =\n",
              "          document.querySelector('#df-39797559-430f-44de-b34e-87a7dc36fe8b button.colab-df-convert');\n",
              "        buttonEl.style.display =\n",
              "          google.colab.kernel.accessAllowed ? 'block' : 'none';\n",
              "\n",
              "        async function convertToInteractive(key) {\n",
              "          const element = document.querySelector('#df-39797559-430f-44de-b34e-87a7dc36fe8b');\n",
              "          const dataTable =\n",
              "            await google.colab.kernel.invokeFunction('convertToInteractive',\n",
              "                                                     [key], {});\n",
              "          if (!dataTable) return;\n",
              "\n",
              "          const docLinkHtml = 'Like what you see? Visit the ' +\n",
              "            '<a target=\"_blank\" href=https://colab.research.google.com/notebooks/data_table.ipynb>data table notebook</a>'\n",
              "            + ' to learn more about interactive tables.';\n",
              "          element.innerHTML = '';\n",
              "          dataTable['output_type'] = 'display_data';\n",
              "          await google.colab.output.renderOutput(dataTable, element);\n",
              "          const docLink = document.createElement('div');\n",
              "          docLink.innerHTML = docLinkHtml;\n",
              "          element.appendChild(docLink);\n",
              "        }\n",
              "      </script>\n",
              "    </div>\n",
              "  </div>\n",
              "  "
            ]
          },
          "metadata": {},
          "execution_count": 64
        }
      ]
    },
    {
      "cell_type": "code",
      "source": [
        "df"
      ],
      "metadata": {
        "id": "ISzyWtzUkjW_"
      },
      "execution_count": null,
      "outputs": []
    },
    {
      "cell_type": "code",
      "source": [
        "df.info()"
      ],
      "metadata": {
        "colab": {
          "base_uri": "https://localhost:8080/"
        },
        "id": "r40eMMOwkHTK",
        "outputId": "af227733-073a-440c-b7b1-a7ede92380fe"
      },
      "execution_count": null,
      "outputs": [
        {
          "output_type": "stream",
          "name": "stdout",
          "text": [
            "<class 'pandas.core.frame.DataFrame'>\n",
            "Int64Index: 3572 entries, 0 to 9956\n",
            "Data columns (total 10 columns):\n",
            " #   Column                Non-Null Count  Dtype  \n",
            "---  ------                --------------  -----  \n",
            " 0   title                 3572 non-null   object \n",
            " 1   year                  3572 non-null   object \n",
            " 2   length of characters  3572 non-null   int64  \n",
            " 3   certificate           3572 non-null   object \n",
            " 4   duration              3572 non-null   object \n",
            " 5   genre                 3572 non-null   object \n",
            " 6   rating                3572 non-null   float64\n",
            " 7   description           3572 non-null   object \n",
            " 8   stars                 3572 non-null   object \n",
            " 9   votes                 3572 non-null   float64\n",
            "dtypes: float64(2), int64(1), object(7)\n",
            "memory usage: 307.0+ KB\n"
          ]
        }
      ]
    },
    {
      "cell_type": "code",
      "source": [
        "# trying without space in combined description\n",
        "# previously reading as TV-14Action\n",
        "df[\"combined_description\"] = df['genre'] + ' ' + df['description']+ ' ' + df['stars']"
      ],
      "metadata": {
        "id": "YqE07HkEjx2m"
      },
      "execution_count": null,
      "outputs": []
    },
    {
      "cell_type": "code",
      "source": [
        "print(df_final[df_final['title'] == \"Jumanji: Welcome to the Jungle\"]['combined_description'])"
      ],
      "metadata": {
        "colab": {
          "base_uri": "https://localhost:8080/"
        },
        "id": "WbmsJgcgLHhj",
        "outputId": "078a8c8d-1ddb-4a94-88ae-81a5ecad311d"
      },
      "execution_count": null,
      "outputs": [
        {
          "output_type": "stream",
          "name": "stdout",
          "text": [
            "320    action adventure comedy four teenagers are suc...\n",
            "Name: combined_description, dtype: object\n"
          ]
        }
      ]
    },
    {
      "cell_type": "code",
      "source": [
        "# Escape Room Versailles top 10 when using certificate\n",
        "Jumanji: Welcome to the Jungle\n",
        "Jumanji: The Next Level\n",
        "Shutter\n",
        "War of the Worlds: Goliath\n",
        "The Devil Inside\n",
        "Insidious: Chapter 2\n",
        "Noah\n",
        "The Ridiculous 6\n",
        "Trollhunters: Rise of the Titans\n",
        "\n",
        "\n",
        "# without certificate:\n",
        "The Highwaymen\n",
        "Borgia\n",
        "Enrico Piaggio: Vespa\n",
        "John Was Trying to Contact Aliens\n",
        "The Real Miyagi\n",
        "Trailer Park Boys: Don't Legalize It\n",
        "Oh, Hello on Broadway\n",
        "Mongol: The Rise of Genghis Khan\n",
        "Coco Before Chanel\n",
        "LBJ"
      ],
      "metadata": {
        "id": "W1zuE_E8I_xV"
      },
      "execution_count": null,
      "outputs": []
    },
    {
      "cell_type": "code",
      "source": [
        "df"
      ],
      "metadata": {
        "id": "2-3FOPYyH-SO"
      },
      "execution_count": null,
      "outputs": []
    },
    {
      "cell_type": "code",
      "source": [
        "df_final = df[['title', 'combined_description']]"
      ],
      "metadata": {
        "id": "FSGxqKjfkseQ"
      },
      "execution_count": null,
      "outputs": []
    },
    {
      "cell_type": "code",
      "source": [
        "df_final"
      ],
      "metadata": {
        "colab": {
          "base_uri": "https://localhost:8080/",
          "height": 424
        },
        "id": "8HzuEcdMkyu9",
        "outputId": "d54c41ce-174d-4257-8008-1c1bcc021e76"
      },
      "execution_count": null,
      "outputs": [
        {
          "output_type": "execute_result",
          "data": {
            "text/plain": [
              "                       title  \\\n",
              "0                  Cobra Kai   \n",
              "1                  The Crown   \n",
              "2           Better Call Saul   \n",
              "3              Devil in Ohio   \n",
              "4     Cyberpunk: Edgerunners   \n",
              "...                      ...   \n",
              "9952          The Imperfects   \n",
              "9953        The Walking Dead   \n",
              "9954               The Crown   \n",
              "9955            Supernatural   \n",
              "9956           Devil in Ohio   \n",
              "\n",
              "                                   combined_description  \n",
              "0     Action, Comedy, Drama Decades after their 1984...  \n",
              "1     Biography, Drama, History Follows the politica...  \n",
              "2     Crime, Drama The trials and tribulations of cr...  \n",
              "3     Drama, Horror, Mystery When a psychiatrist she...  \n",
              "4     Animation, Action, Adventure A Street Kid tryi...  \n",
              "...                                                 ...  \n",
              "9952  Action, Adventure, Drama After an experimental...  \n",
              "9953  Drama, Horror, Thriller Sheriff Deputy Rick Gr...  \n",
              "9954  Biography, Drama, History Follows the politica...  \n",
              "9955  Drama, Fantasy, Horror Two brothers follow the...  \n",
              "9956  Drama, Horror, Mystery When a psychiatrist she...  \n",
              "\n",
              "[9957 rows x 2 columns]"
            ],
            "text/html": [
              "\n",
              "  <div id=\"df-afb1957e-f6ff-4982-8397-092a3a2369ee\">\n",
              "    <div class=\"colab-df-container\">\n",
              "      <div>\n",
              "<style scoped>\n",
              "    .dataframe tbody tr th:only-of-type {\n",
              "        vertical-align: middle;\n",
              "    }\n",
              "\n",
              "    .dataframe tbody tr th {\n",
              "        vertical-align: top;\n",
              "    }\n",
              "\n",
              "    .dataframe thead th {\n",
              "        text-align: right;\n",
              "    }\n",
              "</style>\n",
              "<table border=\"1\" class=\"dataframe\">\n",
              "  <thead>\n",
              "    <tr style=\"text-align: right;\">\n",
              "      <th></th>\n",
              "      <th>title</th>\n",
              "      <th>combined_description</th>\n",
              "    </tr>\n",
              "  </thead>\n",
              "  <tbody>\n",
              "    <tr>\n",
              "      <th>0</th>\n",
              "      <td>Cobra Kai</td>\n",
              "      <td>Action, Comedy, Drama Decades after their 1984...</td>\n",
              "    </tr>\n",
              "    <tr>\n",
              "      <th>1</th>\n",
              "      <td>The Crown</td>\n",
              "      <td>Biography, Drama, History Follows the politica...</td>\n",
              "    </tr>\n",
              "    <tr>\n",
              "      <th>2</th>\n",
              "      <td>Better Call Saul</td>\n",
              "      <td>Crime, Drama The trials and tribulations of cr...</td>\n",
              "    </tr>\n",
              "    <tr>\n",
              "      <th>3</th>\n",
              "      <td>Devil in Ohio</td>\n",
              "      <td>Drama, Horror, Mystery When a psychiatrist she...</td>\n",
              "    </tr>\n",
              "    <tr>\n",
              "      <th>4</th>\n",
              "      <td>Cyberpunk: Edgerunners</td>\n",
              "      <td>Animation, Action, Adventure A Street Kid tryi...</td>\n",
              "    </tr>\n",
              "    <tr>\n",
              "      <th>...</th>\n",
              "      <td>...</td>\n",
              "      <td>...</td>\n",
              "    </tr>\n",
              "    <tr>\n",
              "      <th>9952</th>\n",
              "      <td>The Imperfects</td>\n",
              "      <td>Action, Adventure, Drama After an experimental...</td>\n",
              "    </tr>\n",
              "    <tr>\n",
              "      <th>9953</th>\n",
              "      <td>The Walking Dead</td>\n",
              "      <td>Drama, Horror, Thriller Sheriff Deputy Rick Gr...</td>\n",
              "    </tr>\n",
              "    <tr>\n",
              "      <th>9954</th>\n",
              "      <td>The Crown</td>\n",
              "      <td>Biography, Drama, History Follows the politica...</td>\n",
              "    </tr>\n",
              "    <tr>\n",
              "      <th>9955</th>\n",
              "      <td>Supernatural</td>\n",
              "      <td>Drama, Fantasy, Horror Two brothers follow the...</td>\n",
              "    </tr>\n",
              "    <tr>\n",
              "      <th>9956</th>\n",
              "      <td>Devil in Ohio</td>\n",
              "      <td>Drama, Horror, Mystery When a psychiatrist she...</td>\n",
              "    </tr>\n",
              "  </tbody>\n",
              "</table>\n",
              "<p>9957 rows × 2 columns</p>\n",
              "</div>\n",
              "      <button class=\"colab-df-convert\" onclick=\"convertToInteractive('df-afb1957e-f6ff-4982-8397-092a3a2369ee')\"\n",
              "              title=\"Convert this dataframe to an interactive table.\"\n",
              "              style=\"display:none;\">\n",
              "        \n",
              "  <svg xmlns=\"http://www.w3.org/2000/svg\" height=\"24px\"viewBox=\"0 0 24 24\"\n",
              "       width=\"24px\">\n",
              "    <path d=\"M0 0h24v24H0V0z\" fill=\"none\"/>\n",
              "    <path d=\"M18.56 5.44l.94 2.06.94-2.06 2.06-.94-2.06-.94-.94-2.06-.94 2.06-2.06.94zm-11 1L8.5 8.5l.94-2.06 2.06-.94-2.06-.94L8.5 2.5l-.94 2.06-2.06.94zm10 10l.94 2.06.94-2.06 2.06-.94-2.06-.94-.94-2.06-.94 2.06-2.06.94z\"/><path d=\"M17.41 7.96l-1.37-1.37c-.4-.4-.92-.59-1.43-.59-.52 0-1.04.2-1.43.59L10.3 9.45l-7.72 7.72c-.78.78-.78 2.05 0 2.83L4 21.41c.39.39.9.59 1.41.59.51 0 1.02-.2 1.41-.59l7.78-7.78 2.81-2.81c.8-.78.8-2.07 0-2.86zM5.41 20L4 18.59l7.72-7.72 1.47 1.35L5.41 20z\"/>\n",
              "  </svg>\n",
              "      </button>\n",
              "      \n",
              "  <style>\n",
              "    .colab-df-container {\n",
              "      display:flex;\n",
              "      flex-wrap:wrap;\n",
              "      gap: 12px;\n",
              "    }\n",
              "\n",
              "    .colab-df-convert {\n",
              "      background-color: #E8F0FE;\n",
              "      border: none;\n",
              "      border-radius: 50%;\n",
              "      cursor: pointer;\n",
              "      display: none;\n",
              "      fill: #1967D2;\n",
              "      height: 32px;\n",
              "      padding: 0 0 0 0;\n",
              "      width: 32px;\n",
              "    }\n",
              "\n",
              "    .colab-df-convert:hover {\n",
              "      background-color: #E2EBFA;\n",
              "      box-shadow: 0px 1px 2px rgba(60, 64, 67, 0.3), 0px 1px 3px 1px rgba(60, 64, 67, 0.15);\n",
              "      fill: #174EA6;\n",
              "    }\n",
              "\n",
              "    [theme=dark] .colab-df-convert {\n",
              "      background-color: #3B4455;\n",
              "      fill: #D2E3FC;\n",
              "    }\n",
              "\n",
              "    [theme=dark] .colab-df-convert:hover {\n",
              "      background-color: #434B5C;\n",
              "      box-shadow: 0px 1px 3px 1px rgba(0, 0, 0, 0.15);\n",
              "      filter: drop-shadow(0px 1px 2px rgba(0, 0, 0, 0.3));\n",
              "      fill: #FFFFFF;\n",
              "    }\n",
              "  </style>\n",
              "\n",
              "      <script>\n",
              "        const buttonEl =\n",
              "          document.querySelector('#df-afb1957e-f6ff-4982-8397-092a3a2369ee button.colab-df-convert');\n",
              "        buttonEl.style.display =\n",
              "          google.colab.kernel.accessAllowed ? 'block' : 'none';\n",
              "\n",
              "        async function convertToInteractive(key) {\n",
              "          const element = document.querySelector('#df-afb1957e-f6ff-4982-8397-092a3a2369ee');\n",
              "          const dataTable =\n",
              "            await google.colab.kernel.invokeFunction('convertToInteractive',\n",
              "                                                     [key], {});\n",
              "          if (!dataTable) return;\n",
              "\n",
              "          const docLinkHtml = 'Like what you see? Visit the ' +\n",
              "            '<a target=\"_blank\" href=https://colab.research.google.com/notebooks/data_table.ipynb>data table notebook</a>'\n",
              "            + ' to learn more about interactive tables.';\n",
              "          element.innerHTML = '';\n",
              "          dataTable['output_type'] = 'display_data';\n",
              "          await google.colab.output.renderOutput(dataTable, element);\n",
              "          const docLink = document.createElement('div');\n",
              "          docLink.innerHTML = docLinkHtml;\n",
              "          element.appendChild(docLink);\n",
              "        }\n",
              "      </script>\n",
              "    </div>\n",
              "  </div>\n",
              "  "
            ]
          },
          "metadata": {},
          "execution_count": 220
        }
      ]
    },
    {
      "cell_type": "code",
      "source": [
        "# remove comma "
      ],
      "metadata": {
        "id": "h3HX_jqp8MCV"
      },
      "execution_count": null,
      "outputs": []
    },
    {
      "cell_type": "code",
      "source": [
        "from string import punctuation\n",
        "p_list=list(punctuation)\n",
        "p_list"
      ],
      "metadata": {
        "colab": {
          "base_uri": "https://localhost:8080/"
        },
        "id": "nkFYDGOs-SZR",
        "outputId": "2db19b14-178c-4a15-bb5e-5fb8d32b6da8"
      },
      "execution_count": null,
      "outputs": [
        {
          "output_type": "execute_result",
          "data": {
            "text/plain": [
              "['!',\n",
              " '\"',\n",
              " '#',\n",
              " '$',\n",
              " '%',\n",
              " '&',\n",
              " \"'\",\n",
              " '(',\n",
              " ')',\n",
              " '*',\n",
              " '+',\n",
              " ',',\n",
              " '-',\n",
              " '.',\n",
              " '/',\n",
              " ':',\n",
              " ';',\n",
              " '<',\n",
              " '=',\n",
              " '>',\n",
              " '?',\n",
              " '@',\n",
              " '[',\n",
              " '\\\\',\n",
              " ']',\n",
              " '^',\n",
              " '_',\n",
              " '`',\n",
              " '{',\n",
              " '|',\n",
              " '}',\n",
              " '~']"
            ]
          },
          "metadata": {},
          "execution_count": 222
        }
      ]
    },
    {
      "cell_type": "code",
      "source": [
        "def punc(df):\n",
        "  df = ''.join(df)\n",
        "  for p in p_list:\n",
        "    df=df.replace(p,'')\n",
        "  return df.lower()"
      ],
      "metadata": {
        "id": "Pxn0H_t5-wsG"
      },
      "execution_count": null,
      "outputs": []
    },
    {
      "cell_type": "code",
      "source": [
        "# First round, noticed duplicates so now deleting duplicates\n",
        "df_final.drop_duplicates(\"title\",inplace=True)\n",
        "df_final.dropna(inplace=True)"
      ],
      "metadata": {
        "colab": {
          "base_uri": "https://localhost:8080/"
        },
        "id": "csD2oA7iA-F_",
        "outputId": "d2d11dda-b1c3-4b99-9014-91d0e9e5fd2b"
      },
      "execution_count": null,
      "outputs": [
        {
          "output_type": "stream",
          "name": "stderr",
          "text": [
            "/usr/local/lib/python3.7/dist-packages/pandas/util/_decorators.py:311: SettingWithCopyWarning: \n",
            "A value is trying to be set on a copy of a slice from a DataFrame\n",
            "\n",
            "See the caveats in the documentation: https://pandas.pydata.org/pandas-docs/stable/user_guide/indexing.html#returning-a-view-versus-a-copy\n",
            "  return func(*args, **kwargs)\n"
          ]
        }
      ]
    },
    {
      "cell_type": "code",
      "source": [
        "df_final['combined_description'] = df_final['combined_description'].apply(punc)"
      ],
      "metadata": {
        "colab": {
          "base_uri": "https://localhost:8080/"
        },
        "id": "LoDvMFNH-uiU",
        "outputId": "98f753a9-f794-4c8d-f534-6cf5890f0175"
      },
      "execution_count": null,
      "outputs": [
        {
          "output_type": "stream",
          "name": "stderr",
          "text": [
            "/usr/local/lib/python3.7/dist-packages/ipykernel_launcher.py:1: SettingWithCopyWarning: \n",
            "A value is trying to be set on a copy of a slice from a DataFrame.\n",
            "Try using .loc[row_indexer,col_indexer] = value instead\n",
            "\n",
            "See the caveats in the documentation: https://pandas.pydata.org/pandas-docs/stable/user_guide/indexing.html#returning-a-view-versus-a-copy\n",
            "  \"\"\"Entry point for launching an IPython kernel.\n"
          ]
        }
      ]
    },
    {
      "cell_type": "code",
      "source": [
        "cv= CountVectorizer(stop_words='english',max_features=8000)"
      ],
      "metadata": {
        "id": "7QvEILNr8Ohu"
      },
      "execution_count": null,
      "outputs": []
    },
    {
      "cell_type": "code",
      "source": [
        "vector_netflix=cv.fit_transform(df_final['combined_description']).toarray()"
      ],
      "metadata": {
        "id": "bk7_zLKb8r_t"
      },
      "execution_count": null,
      "outputs": []
    },
    {
      "cell_type": "code",
      "source": [
        "similarity=cosine_similarity(vector_netflix)"
      ],
      "metadata": {
        "id": "20adiBLg_ukk"
      },
      "execution_count": null,
      "outputs": []
    },
    {
      "cell_type": "code",
      "source": [
        "test_similar = df_final[df_final[\"title\"] == 'Versailles'].index[0]\n",
        "test_similar"
      ],
      "metadata": {
        "colab": {
          "base_uri": "https://localhost:8080/"
        },
        "id": "yGkIDnGAGJEd",
        "outputId": "6252550a-6d52-4b7f-c195-3eb189f780d5"
      },
      "execution_count": null,
      "outputs": [
        {
          "output_type": "execute_result",
          "data": {
            "text/plain": [
              "630"
            ]
          },
          "metadata": {},
          "execution_count": 177
        }
      ]
    },
    {
      "cell_type": "code",
      "source": [
        "print(df_final[df_final['title']=='Versailles'].index[0])\n",
        "\n",
        "sorted(enumerate(similarity[630]),reverse=True,key=lambda x :x[1])[1:11]"
      ],
      "metadata": {
        "colab": {
          "base_uri": "https://localhost:8080/"
        },
        "id": "Wjpw5GTRGoOM",
        "outputId": "a4e6bf49-42cf-4a01-d80c-0e383529d0c0"
      },
      "execution_count": null,
      "outputs": [
        {
          "output_type": "stream",
          "name": "stdout",
          "text": [
            "630\n"
          ]
        },
        {
          "output_type": "execute_result",
          "data": {
            "text/plain": [
              "[(969, 0.4472135954999579),\n",
              " (1217, 0.28867513459481287),\n",
              " (3247, 0.26352313834736496),\n",
              " (5812, 0.25425669046549126),\n",
              " (3764, 0.25318484177091666),\n",
              " (4587, 0.24152294576982392),\n",
              " (4591, 0.23732222626728364),\n",
              " (2249, 0.2357022603955158),\n",
              " (2475, 0.2357022603955158),\n",
              " (2416, 0.23354968324845687)]"
            ]
          },
          "metadata": {},
          "execution_count": 274
        }
      ]
    },
    {
      "cell_type": "code",
      "source": [
        "test = sorted(enumerate(similarity[630]),reverse=True,key=lambda x :x[1])[1:11]\n",
        "\n",
        "for x in test:\n",
        "  test = df_final.iloc[x[0]]\n",
        "  print(test)"
      ],
      "metadata": {
        "colab": {
          "base_uri": "https://localhost:8080/"
        },
        "id": "eW1GhZOUS7pF",
        "outputId": "df326d53-e1b4-4aff-8ae1-a02aa7c59ad2"
      },
      "execution_count": null,
      "outputs": [
        {
          "output_type": "stream",
          "name": "stdout",
          "text": [
            "title                                                      The Highwaymen\n",
            "combined_description    biography crime drama the untold true story of...\n",
            "Name: 981, dtype: object\n",
            "title                                                              Borgia\n",
            "combined_description    biography drama history story of the rise and ...\n",
            "Name: 1231, dtype: object\n",
            "title                                               Enrico Piaggio: Vespa\n",
            "combined_description    biography drama romance the life of enrico pia...\n",
            "Name: 3290, dtype: object\n",
            "title                                   John Was Trying to Contact Aliens\n",
            "combined_description    documentary short biography john shepherd spen...\n",
            "Name: 5905, dtype: object\n",
            "title                                                     The Real Miyagi\n",
            "combined_description    documentary action biography the life of fumio...\n",
            "Name: 3818, dtype: object\n",
            "title                                Trailer Park Boys: Don't Legalize It\n",
            "combined_description    comedy crime drama after his latest moneymakin...\n",
            "Name: 4654, dtype: object\n",
            "title                                               Oh, Hello on Broadway\n",
            "combined_description    comedy two delusional geriatrics reveal curiou...\n",
            "Name: 4658, dtype: object\n",
            "title                                    Mongol: The Rise of Genghis Khan\n",
            "combined_description    action biography drama the story recounts the ...\n",
            "Name: 2276, dtype: object\n",
            "title                                                  Coco Before Chanel\n",
            "combined_description    biography drama the story of coco chanels rise...\n",
            "Name: 2504, dtype: object\n",
            "title                                                                 LBJ\n",
            "combined_description    biography drama history lyndon b johnson align...\n",
            "Name: 2444, dtype: object\n"
          ]
        }
      ]
    },
    {
      "cell_type": "code",
      "source": [
        "test = sorted(enumerate(similarity[630]),reverse=True,key=lambda x :x[1])[1:11]\n",
        "\n",
        "for x in test:\n",
        "  test = df_final.iloc[x[0]]\n",
        "  print(test[0])"
      ],
      "metadata": {
        "colab": {
          "base_uri": "https://localhost:8080/"
        },
        "id": "_WVLxTG7TWCi",
        "outputId": "7c355d6f-cddf-4976-bbf6-053929068f06"
      },
      "execution_count": null,
      "outputs": [
        {
          "output_type": "stream",
          "name": "stdout",
          "text": [
            "The Highwaymen\n",
            "Borgia\n",
            "Enrico Piaggio: Vespa\n",
            "John Was Trying to Contact Aliens\n",
            "The Real Miyagi\n",
            "Trailer Park Boys: Don't Legalize It\n",
            "Oh, Hello on Broadway\n",
            "Mongol: The Rise of Genghis Khan\n",
            "Coco Before Chanel\n",
            "LBJ\n"
          ]
        }
      ]
    },
    {
      "cell_type": "code",
      "source": [
        "def recommended_5(entertainment):\n",
        "  entertainment_index=df_final[df_final['title']==entertainment].index[0]\n",
        "  entertainment=sorted(enumerate(similarity[entertainment_index]),reverse=True,key=lambda x :x[1])[1:6]\n",
        "  \n",
        "  for i in entertainment:\n",
        "      entertainments=df_final.iloc[i[0]]\n",
        "      if len(entertainments)> 0:\n",
        "          print (entertainments[0])"
      ],
      "metadata": {
        "id": "iVVPa-ny_yeI"
      },
      "execution_count": null,
      "outputs": []
    },
    {
      "cell_type": "code",
      "source": [
        "df_final[df_final['title'] == \"The Highwaymen\"]['combined_description']"
      ],
      "metadata": {
        "colab": {
          "base_uri": "https://localhost:8080/"
        },
        "id": "Ox61n6B7J6Ng",
        "outputId": "fa10d162-a86a-4b7e-b72c-c6e0db8c1b99"
      },
      "execution_count": null,
      "outputs": [
        {
          "output_type": "execute_result",
          "data": {
            "text/plain": [
              "981    biography crime drama the untold true story of...\n",
              "Name: combined_description, dtype: object"
            ]
          },
          "metadata": {},
          "execution_count": 242
        }
      ]
    },
    {
      "cell_type": "code",
      "source": [
        "df_final[df_final['title'] == \"Versailles\"]['combined_description']"
      ],
      "metadata": {
        "colab": {
          "base_uri": "https://localhost:8080/"
        },
        "id": "4x_FQHiXKXiC",
        "outputId": "39ebc164-83f1-4ba3-937b-7accdc840faf"
      },
      "execution_count": null,
      "outputs": [
        {
          "output_type": "execute_result",
          "data": {
            "text/plain": [
              "630    biography drama history in 1667 28yearold allp...\n",
              "Name: combined_description, dtype: object"
            ]
          },
          "metadata": {},
          "execution_count": 243
        }
      ]
    },
    {
      "cell_type": "code",
      "source": [
        "df_final[df_final['title'] == \"Borgia\"]['combined_description']"
      ],
      "metadata": {
        "colab": {
          "base_uri": "https://localhost:8080/"
        },
        "id": "IFV3m8LPKcHK",
        "outputId": "5ec76e3d-d047-4b0d-939a-6d697161f198"
      },
      "execution_count": null,
      "outputs": [
        {
          "output_type": "execute_result",
          "data": {
            "text/plain": [
              "1231    biography drama history story of the rise and ...\n",
              "Name: combined_description, dtype: object"
            ]
          },
          "metadata": {},
          "execution_count": 244
        }
      ]
    },
    {
      "cell_type": "code",
      "source": [
        "recommended_5('Versailles')"
      ],
      "metadata": {
        "colab": {
          "base_uri": "https://localhost:8080/"
        },
        "id": "0pOYs5JRAAce",
        "outputId": "fe49c64e-b292-49eb-d5db-e335bf796bc2"
      },
      "execution_count": null,
      "outputs": [
        {
          "output_type": "stream",
          "name": "stdout",
          "text": [
            "The Highwaymen\n",
            "Borgia\n",
            "Enrico Piaggio: Vespa\n",
            "John Was Trying to Contact Aliens\n",
            "The Real Miyagi\n"
          ]
        }
      ]
    },
    {
      "cell_type": "code",
      "source": [
        "recommended_5('Narcos')"
      ],
      "metadata": {
        "colab": {
          "base_uri": "https://localhost:8080/"
        },
        "id": "x2Oq3h2QAO7H",
        "outputId": "d4b9afc8-a96c-444c-a109-cd06c4acbd9c"
      },
      "execution_count": null,
      "outputs": [
        {
          "output_type": "stream",
          "name": "stdout",
          "text": [
            "The Infiltrator\n",
            "Viva La Madness\n",
            "2020\n",
            "Cocaine Cowboys: The Kings of Miami\n",
            "Goals Against\n"
          ]
        }
      ]
    },
    {
      "cell_type": "code",
      "source": [
        "recommended_5('Sherlock')"
      ],
      "metadata": {
        "colab": {
          "base_uri": "https://localhost:8080/"
        },
        "id": "d1XpqIncAU5h",
        "outputId": "145c3d67-7cc4-497d-bef2-fc2edb3de1d6"
      },
      "execution_count": null,
      "outputs": [
        {
          "output_type": "stream",
          "name": "stdout",
          "text": [
            "Line of Duty\n",
            "Queen Sono\n",
            "Murder, She Wrote\n",
            "Those Who Read the Hearts of Evil\n",
            "Delhi Crime\n"
          ]
        }
      ]
    },
    {
      "cell_type": "code",
      "source": [
        "df"
      ],
      "metadata": {
        "id": "2A2i4STNAqhX"
      },
      "execution_count": null,
      "outputs": []
    },
    {
      "cell_type": "code",
      "source": [
        "df_final[df_final['title'] == \"Versailles\"]['combined_description']"
      ],
      "metadata": {
        "colab": {
          "base_uri": "https://localhost:8080/"
        },
        "id": "Y_t7NF_8Kh3d",
        "outputId": "659a57cc-c53e-4855-c41a-8ca0cd31235f"
      },
      "execution_count": null,
      "outputs": [
        {
          "output_type": "execute_result",
          "data": {
            "text/plain": [
              "630    biography drama history in 1667 28yearold allp...\n",
              "Name: combined_description, dtype: object"
            ]
          },
          "metadata": {},
          "execution_count": 287
        }
      ]
    },
    {
      "cell_type": "code",
      "source": [
        "df_final[df_final['title'] == \"The Love Section\"]['combined_description']"
      ],
      "metadata": {
        "colab": {
          "base_uri": "https://localhost:8080/"
        },
        "id": "0dxyJuh9Km-8",
        "outputId": "b3ea691c-b3d7-44bc-9fb5-cd12aaebbb77"
      },
      "execution_count": null,
      "outputs": [
        {
          "output_type": "execute_result",
          "data": {
            "text/plain": [
              "6672    comedy drama romance ali lawrence adisa is a s...\n",
              "Name: combined_description, dtype: object"
            ]
          },
          "metadata": {},
          "execution_count": 246
        }
      ]
    },
    {
      "cell_type": "code",
      "source": [
        "recommended_5('Cobra Kai')"
      ],
      "metadata": {
        "colab": {
          "base_uri": "https://localhost:8080/"
        },
        "id": "2XyM2ZUAApgt",
        "outputId": "9143c935-5696-454f-e8d7-0dcf21110f7b"
      },
      "execution_count": null,
      "outputs": [
        {
          "output_type": "stream",
          "name": "stdout",
          "text": [
            "The Love Section\n",
            "The Thundermans\n",
            "Teachers\n",
            "Assassin's Creed\n",
            "Untitled Scott Pilgrim anime series\n"
          ]
        }
      ]
    },
    {
      "cell_type": "code",
      "source": [
        "# duplicates, need to remove"
      ],
      "metadata": {
        "id": "X-OwpZTRAvba"
      },
      "execution_count": null,
      "outputs": []
    },
    {
      "cell_type": "code",
      "source": [
        "df"
      ],
      "metadata": {
        "id": "uBkjgNrBBZQP"
      },
      "execution_count": null,
      "outputs": []
    },
    {
      "cell_type": "code",
      "source": [
        "def split_cast(data):\n",
        "  split_data=data.split(\", ', '\")\n",
        "  names=[]\n",
        "  for i in split_data:\n",
        "    if '[' in i or ']' in i:\n",
        "        i=i.replace('[','')\n",
        "        i=i.replace(']','')\n",
        "        i=i.replace(\"'\",'')\n",
        "        i=i.replace(' ','')\n",
        "        names.append(i)\n",
        "    else:\n",
        "      i=i.replace(' ','')\n",
        "      names.append(i)\n",
        "  if type(names)==list:\n",
        "    return names\n",
        "  else :\n",
        "    return list(names)"
      ],
      "metadata": {
        "id": "bQ-IxhgLBlyn"
      },
      "execution_count": null,
      "outputs": []
    },
    {
      "cell_type": "code",
      "source": [
        "df[\"genre_category\"] = \"update\""
      ],
      "metadata": {
        "id": "LFvvIQV3CQ7F"
      },
      "execution_count": null,
      "outputs": []
    },
    {
      "cell_type": "code",
      "source": [
        "children = ['TV-PG','PG','G','TV-G', 'TV-Y7', 'TV-Y']\n",
        "young_adult = ['TV-14','PG-13','NC-17', '12']\n",
        "adult = ['TV-MA','R','Not Rated', 'Approved','Unrated']\n",
        "\n",
        "def genre_update(data):\n",
        "  if data in children:\n",
        "    df[\"genre_category \"] = \"children_genre\"\n",
        "  elif data in young_adult:\n",
        "    df[\"genre_category \"] = \"young_adult_genre\"\n",
        "  else:\n",
        "    df[\"genre_category \"] = \"adult_genre\"\n",
        "  return df[\"genre_category\"]"
      ],
      "metadata": {
        "id": "0NZ-JdLZBmvq"
      },
      "execution_count": null,
      "outputs": []
    },
    {
      "cell_type": "code",
      "source": [
        "df[\"certificate\"]"
      ],
      "metadata": {
        "colab": {
          "base_uri": "https://localhost:8080/"
        },
        "id": "bEdts93KFJYo",
        "outputId": "f10dfaec-1fa0-4740-8693-1be94adfb857"
      },
      "execution_count": null,
      "outputs": [
        {
          "output_type": "execute_result",
          "data": {
            "text/plain": [
              "0       TV-14\n",
              "1       TV-MA\n",
              "2       TV-MA\n",
              "3       TV-MA\n",
              "4       TV-MA\n",
              "        ...  \n",
              "9952    TV-MA\n",
              "9953    TV-MA\n",
              "9954    TV-MA\n",
              "9955    TV-14\n",
              "9956    TV-MA\n",
              "Name: certificate, Length: 9957, dtype: object"
            ]
          },
          "metadata": {},
          "execution_count": 168
        }
      ]
    },
    {
      "cell_type": "code",
      "source": [
        "genre_update(df[\"certificate\"])"
      ],
      "metadata": {
        "id": "4XvU2nA2AzYC"
      },
      "execution_count": null,
      "outputs": []
    }
  ]
}